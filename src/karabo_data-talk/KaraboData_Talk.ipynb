{
 "cells": [
  {
   "cell_type": "code",
   "execution_count": 2,
   "metadata": {
    "slideshow": {
     "slide_type": "skip"
    }
   },
   "outputs": [],
   "source": [
    "import warnings\n",
    "\n",
    "from IPython.display import HTML\n",
    "import matplotlib\n",
    "from matplotlib import pyplot as plt\n",
    "import numpy as np\n",
    "plt.rcParams['figure.figsize'] = (20.0, 10.0)\n",
    "matplotlib.rc('image', cmap='RdYlBu_r')\n",
    "\n",
    "warnings.filterwarnings(\"ignore\")\n",
    "%matplotlib inline"
   ]
  },
  {
   "cell_type": "markdown",
   "metadata": {
    "slideshow": {
     "slide_type": "slide"
    }
   },
   "source": [
    "<figure>\n",
    "<center><img src='Title_slide.png' style='width:850px;'></center>\n",
    "<figcaption style=\"text-align: right\">"
   ]
  },
  {
   "cell_type": "markdown",
   "metadata": {
    "slideshow": {
     "slide_type": "slide"
    }
   },
   "source": [
    "<figure>\n",
    "<center><img src='img/Data_structure_3.png' style='width:850px;'></center>\n",
    "<figcaption style=\"text-align: right\">"
   ]
  },
  {
   "cell_type": "markdown",
   "metadata": {
    "slideshow": {
     "slide_type": "subslide"
    }
   },
   "source": [
    "<h3>A Closer Look at Detector Data:</h3>\n",
    "<figure>\n",
    "<center><img src='img/AGIPD_inspect.png' style='height:450px;'></center>\n",
    "<figcaption style=\"text-align: right\">Data from Modular Detectors is stored across multiple files</figcaption>\n",
    "</figure>\n",
    "\n",
    "Using standard hdf5 tools can be tricky and tedious"
   ]
  },
  {
   "cell_type": "markdown",
   "metadata": {
    "slideshow": {
     "slide_type": "subslide"
    }
   },
   "source": [
    "\n",
    "<div class=\"text_cell_render border-box-sizing rendered_html\">\n",
    "<font size='2'>\n",
    "<div class=\"highlight\"><pre><span></span><span class=\"gp\">$</span>: lsxfel /gpfs/exfel/exp/XMPL/201750/p700000/raw/r0273\n",
    "<span class=\"go\">r0273 : Run directory</span>\n",
    "\n",
    "<span class=\"gp\">#</span> of trains:    <span class=\"m\">156</span>\n",
    "<span class=\"go\">Duration:       0:00:15.500000</span>\n",
    "<span class=\"go\">First train ID: 198425241</span>\n",
    "<span class=\"go\">Last train ID:  198425396</span>\n",
    "\n",
    "<span class=\"go\">16 detector modules (SPB_DET_AGIPD1M-1)</span>\n",
    "<span class=\"go\">  e.g. module SPB_DET_AGIPD1M-1 0 : 512 x 128 pixels</span>\n",
    "<span class=\"go\">  176 frames per train, 27456 total frames</span>\n",
    "\n",
    "<span class=\"go\">2 instrument sources (excluding detectors):</span>\n",
    "<span class=\"go\">  - SA1_XTD2_XGM/XGM/DOOCS:output</span>\n",
    "<span class=\"go\">  - SPB_XTD9_XGM/XGM/DOOCS:output</span>\n",
    "\n",
    "<span class=\"go\">13 control sources:</span>\n",
    "<span class=\"go\">  - ACC_SYS_DOOCS/CTRL/BEAMCONDITIONS</span>\n",
    "<span class=\"go\">  - SA1_XTD2_XGM/XGM/DOOCS</span>\n",
    "<span class=\"go\">  - SPB_IRU_AGIPD1M/PSC/HV</span>\n",
    "<span class=\"go\">  - SPB_IRU_AGIPD1M/TSENS/H1_T_EXTHOUS</span>\n",
    "<span class=\"go\">  - SPB_IRU_AGIPD1M/TSENS/H2_T_EXTHOUS</span>\n",
    "<span class=\"go\">  - SPB_IRU_AGIPD1M/TSENS/Q1_T_BLOCK</span>\n",
    "<span class=\"go\">  - SPB_IRU_AGIPD1M/TSENS/Q2_T_BLOCK</span>\n",
    "<span class=\"go\">  - SPB_IRU_AGIPD1M/TSENS/Q3_T_BLOCK</span>\n",
    "<span class=\"go\">  - SPB_IRU_AGIPD1M/TSENS/Q4_T_BLOCK</span>\n",
    "<span class=\"go\">  - SPB_IRU_AGIPD1M1/CTRL/MC1</span>\n",
    "<span class=\"go\">  - SPB_IRU_AGIPD1M1/CTRL/MC2</span>\n",
    "<span class=\"go\">  - SPB_IRU_VAC/GAUGE/GAUGE_FR_6</span>\n",
    "<span class=\"go\">  - SPB_XTD9_XGM/XGM/DOOCS</span>\n",
    "</font>\n",
    "</pre></div>"
   ]
  },
  {
   "cell_type": "markdown",
   "metadata": {
    "slideshow": {
     "slide_type": "slide"
    }
   },
   "source": [
    "## *karabo-data*\n",
    "* Python Library that supports Analysis of EuXFEL Data.\n",
    "* It is Open Source and available on the maxwell cluster."
   ]
  },
  {
   "cell_type": "markdown",
   "metadata": {
    "slideshow": {
     "slide_type": "fragment"
    }
   },
   "source": [
    "## Aim of this presentation:\n",
    "Give you a glimpse of what is possible and provide a ground base for your own data analysis at EuXFEL"
   ]
  },
  {
   "cell_type": "markdown",
   "metadata": {
    "slideshow": {
     "slide_type": "slide"
    }
   },
   "source": [
    "## Scenario I: Take a quick look at some detector data"
   ]
  },
  {
   "cell_type": "markdown",
   "metadata": {
    "slideshow": {
     "slide_type": "-"
    }
   },
   "source": [
    "<figure>\n",
    "<center><img src='img/AGIPD_module.png' style='height:250px;'></center>\n",
    "<figcaption style=\"text-align: right\">An image from a single module of the AGIP-D Detector at SPB</figcaption>\n",
    "</figure>\n",
    "\n",
    "* How could this data be retrieved and visualized?"
   ]
  },
  {
   "cell_type": "markdown",
   "metadata": {
    "slideshow": {
     "slide_type": "subslide"
    }
   },
   "source": [
    "### Reading single files:"
   ]
  },
  {
   "cell_type": "code",
   "execution_count": 3,
   "metadata": {
    "slideshow": {
     "slide_type": "notes"
    }
   },
   "outputs": [],
   "source": [
    "#Live-demo\n",
    "import karabo_data as kd\n",
    "exmpl_file = '/gpfs/exfel/exp/XMPL/201750/p700000/proc/r0273/CORR-R0273-AGIPD03-S00000.h5'\n",
    "hdf5_file = kd.H5File(exmpl_file)"
   ]
  },
  {
   "cell_type": "markdown",
   "metadata": {
    "slideshow": {
     "slide_type": "fragment"
    }
   },
   "source": [
    "Data can be accessed by:\n",
    "* selecting trains by id's &rarr; ```.train_from_id```\n",
    "* selecting trains by indexes &rarr; ```.train_from_index```\n",
    "* iteration (looping) over trains &rarr; ```.trains```"
   ]
  },
  {
   "cell_type": "markdown",
   "metadata": {
    "slideshow": {
     "slide_type": "fragment"
    }
   },
   "source": [
    "**Let's select data based on indexes:**"
   ]
  },
  {
   "cell_type": "code",
   "execution_count": 4,
   "metadata": {
    "slideshow": {
     "slide_type": "notes"
    }
   },
   "outputs": [
    {
     "name": "stdout",
     "output_type": "stream",
     "text": [
      "198425246 dict_keys(['SPB_DET_AGIPD1M-1/DET/3CH0:xtdf'])\n"
     ]
    }
   ],
   "source": [
    "#Live-demo (sel from index)\n",
    "train_id, train_data = hdf5_file.train_from_index(5)\n",
    "print(train_id, train_data.keys())"
   ]
  },
  {
   "cell_type": "markdown",
   "metadata": {
    "slideshow": {
     "slide_type": "notes"
    }
   },
   "source": [
    "The data is stored in a so called *dictionary*. Hence the data can be accessed by giving keys:"
   ]
  },
  {
   "cell_type": "markdown",
   "metadata": {
    "slideshow": {
     "slide_type": "slide"
    }
   },
   "source": [
    "## Reading whole Runs\n",
    "The main advantage of karabo-data is that not only single files at a time but whole runs can be read:"
   ]
  },
  {
   "cell_type": "code",
   "execution_count": 5,
   "metadata": {
    "scrolled": false,
    "slideshow": {
     "slide_type": "fragment"
    }
   },
   "outputs": [
    {
     "name": "stdout",
     "output_type": "stream",
     "text": [
      "# of trains:    156\n",
      "Duration:       0:00:15.500000\n",
      "First train ID: 198425241\n",
      "Last train ID:  198425396\n",
      "\n",
      "16 detector modules (SPB_DET_AGIPD1M-1)\n",
      "  e.g. module SPB_DET_AGIPD1M-1 0 : 512 x 128 pixels\n",
      "  176 frames per train, 27456 total frames\n",
      "\n",
      "2 instrument sources (excluding detectors):\n",
      "  - SA1_XTD2_XGM/XGM/DOOCS:output\n",
      "  - SPB_XTD9_XGM/XGM/DOOCS:output\n",
      "\n",
      "13 control sources:\n",
      "  - ACC_SYS_DOOCS/CTRL/BEAMCONDITIONS\n",
      "  - SA1_XTD2_XGM/XGM/DOOCS\n",
      "  - SPB_IRU_AGIPD1M/PSC/HV\n",
      "  - SPB_IRU_AGIPD1M/TSENS/H1_T_EXTHOUS\n",
      "  - SPB_IRU_AGIPD1M/TSENS/H2_T_EXTHOUS\n",
      "  - SPB_IRU_AGIPD1M/TSENS/Q1_T_BLOCK\n",
      "  - SPB_IRU_AGIPD1M/TSENS/Q2_T_BLOCK\n",
      "  - SPB_IRU_AGIPD1M/TSENS/Q3_T_BLOCK\n",
      "  - SPB_IRU_AGIPD1M/TSENS/Q4_T_BLOCK\n",
      "  - SPB_IRU_AGIPD1M1/CTRL/MC1\n",
      "  - SPB_IRU_AGIPD1M1/CTRL/MC2\n",
      "  - SPB_IRU_VAC/GAUGE/GAUGE_FR_6\n",
      "  - SPB_XTD9_XGM/XGM/DOOCS\n",
      "\n"
     ]
    }
   ],
   "source": [
    "run_folder = '/gpfs/exfel/exp/XMPL/201750/p700000/raw/r0273'\n",
    "run_dir = kd.RunDirectory(run_folder)\n",
    "run_dir.info()"
   ]
  },
  {
   "cell_type": "markdown",
   "metadata": {
    "slideshow": {
     "slide_type": "fragment"
    }
   },
   "source": [
    "All previously mentioned methods are also available from the ``RunDirectory`` object"
   ]
  },
  {
   "cell_type": "markdown",
   "metadata": {
    "slideshow": {
     "slide_type": "slide"
    }
   },
   "source": [
    "## Scenario II: Extracting 1D Data\n",
    "<figure>\n",
    "<center><img src='img/PhotonFlux.png' style='height:350px;'></center>\n",
    "<figcaption style=\"text-align: right\">Photon flux *time-series* (by trainID)</figcaption>\n",
    "</figure>\n",
    "\n",
    "* How can 1D data be extracted and plotted?"
   ]
  },
  {
   "cell_type": "markdown",
   "metadata": {
    "slideshow": {
     "slide_type": "fragment"
    }
   },
   "source": [
    "The *get_series* method can extract a series across trainID's for a given device and property:"
   ]
  },
  {
   "cell_type": "markdown",
   "metadata": {
    "slideshow": {
     "slide_type": "slide"
    }
   },
   "source": [
    "## Scenario III: Combining and Plotting data sources\n",
    "<figure>\n",
    "<center><img src='img/Dataframe.png' style='height:350px;'></center>\n",
    "<figcaption style=\"text-align: right\">Beam-Pos in *SA1* and *SPB* </figcaption>\n",
    "</figure>\n",
    "\n",
    "* How can 2 data sources be combined?"
   ]
  },
  {
   "cell_type": "markdown",
   "metadata": {
    "slideshow": {
     "slide_type": "notes"
    }
   },
   "source": [
    "* Multiple dataset can be selected using the ```get_dataframe``` method:"
   ]
  },
  {
   "cell_type": "code",
   "execution_count": 14,
   "metadata": {
    "slideshow": {
     "slide_type": "notes"
    }
   },
   "outputs": [
    {
     "data": {
      "text/plain": [
       "['ACC_SYS_DOOCS/CTRL/BEAMCONDITIONS',\n",
       " 'SA1_XTD2_XGM/XGM/DOOCS',\n",
       " 'SA1_XTD2_XGM/XGM/DOOCS:output',\n",
       " 'SPB_DET_AGIPD1M-1/DET/0CH0:xtdf',\n",
       " 'SPB_DET_AGIPD1M-1/DET/10CH0:xtdf',\n",
       " 'SPB_DET_AGIPD1M-1/DET/11CH0:xtdf',\n",
       " 'SPB_DET_AGIPD1M-1/DET/12CH0:xtdf',\n",
       " 'SPB_DET_AGIPD1M-1/DET/13CH0:xtdf',\n",
       " 'SPB_DET_AGIPD1M-1/DET/14CH0:xtdf',\n",
       " 'SPB_DET_AGIPD1M-1/DET/15CH0:xtdf',\n",
       " 'SPB_DET_AGIPD1M-1/DET/1CH0:xtdf',\n",
       " 'SPB_DET_AGIPD1M-1/DET/2CH0:xtdf',\n",
       " 'SPB_DET_AGIPD1M-1/DET/3CH0:xtdf',\n",
       " 'SPB_DET_AGIPD1M-1/DET/4CH0:xtdf',\n",
       " 'SPB_DET_AGIPD1M-1/DET/5CH0:xtdf',\n",
       " 'SPB_DET_AGIPD1M-1/DET/6CH0:xtdf',\n",
       " 'SPB_DET_AGIPD1M-1/DET/7CH0:xtdf',\n",
       " 'SPB_DET_AGIPD1M-1/DET/8CH0:xtdf',\n",
       " 'SPB_DET_AGIPD1M-1/DET/9CH0:xtdf',\n",
       " 'SPB_IRU_AGIPD1M/PSC/HV',\n",
       " 'SPB_IRU_AGIPD1M/TSENS/H1_T_EXTHOUS',\n",
       " 'SPB_IRU_AGIPD1M/TSENS/H2_T_EXTHOUS',\n",
       " 'SPB_IRU_AGIPD1M/TSENS/Q1_T_BLOCK',\n",
       " 'SPB_IRU_AGIPD1M/TSENS/Q2_T_BLOCK',\n",
       " 'SPB_IRU_AGIPD1M/TSENS/Q3_T_BLOCK',\n",
       " 'SPB_IRU_AGIPD1M/TSENS/Q4_T_BLOCK',\n",
       " 'SPB_IRU_AGIPD1M1/CTRL/MC1',\n",
       " 'SPB_IRU_AGIPD1M1/CTRL/MC2',\n",
       " 'SPB_IRU_VAC/GAUGE/GAUGE_FR_6',\n",
       " 'SPB_XTD9_XGM/XGM/DOOCS',\n",
       " 'SPB_XTD9_XGM/XGM/DOOCS:output']"
      ]
     },
     "execution_count": 14,
     "metadata": {},
     "output_type": "execute_result"
    }
   ],
   "source": [
    "sorted(run_dir.selection.keys())"
   ]
  },
  {
   "cell_type": "code",
   "execution_count": 16,
   "metadata": {
    "slideshow": {
     "slide_type": "notes"
    }
   },
   "outputs": [],
   "source": [
    "xgm_data = run_dir.get_dataframe(fields=[('*/XGM/DOOCS', '*')])"
   ]
  },
  {
   "cell_type": "code",
   "execution_count": 17,
   "metadata": {
    "slideshow": {
     "slide_type": "notes"
    }
   },
   "outputs": [
    {
     "data": {
      "text/html": [
       "<div>\n",
       "<style scoped>\n",
       "    .dataframe tbody tr th:only-of-type {\n",
       "        vertical-align: middle;\n",
       "    }\n",
       "\n",
       "    .dataframe tbody tr th {\n",
       "        vertical-align: top;\n",
       "    }\n",
       "\n",
       "    .dataframe thead th {\n",
       "        text-align: right;\n",
       "    }\n",
       "</style>\n",
       "<table border=\"1\" class=\"dataframe\">\n",
       "  <thead>\n",
       "    <tr style=\"text-align: right;\">\n",
       "      <th></th>\n",
       "      <th>SA1_XTD2_XGM/XGM/DOOCS/beamPosition.ixPos</th>\n",
       "      <th>SA1_XTD2_XGM/XGM/DOOCS/pressure.rsp</th>\n",
       "      <th>SA1_XTD2_XGM/XGM/DOOCS/current.top.output</th>\n",
       "      <th>SA1_XTD2_XGM/XGM/DOOCS/current.bottom.output</th>\n",
       "      <th>SA1_XTD2_XGM/XGM/DOOCS/current.right.rangeCode</th>\n",
       "      <th>SA1_XTD2_XGM/XGM/DOOCS/pulseEnergy.crossUsed</th>\n",
       "      <th>SA1_XTD2_XGM/XGM/DOOCS/current.top.rangeCode</th>\n",
       "      <th>SA1_XTD2_XGM/XGM/DOOCS/current.bottom.rangeCode</th>\n",
       "      <th>SA1_XTD2_XGM/XGM/DOOCS/gasDosing.measuredPressure</th>\n",
       "      <th>SA1_XTD2_XGM/XGM/DOOCS/current.left.output</th>\n",
       "      <th>...</th>\n",
       "      <th>SPB_XTD9_XGM/XGM/DOOCS/pressure.dcr</th>\n",
       "      <th>SPB_XTD9_XGM/XGM/DOOCS/pulseEnergy.conversion</th>\n",
       "      <th>SPB_XTD9_XGM/XGM/DOOCS/pressure.gasType</th>\n",
       "      <th>SPB_XTD9_XGM/XGM/DOOCS/pollingInterval</th>\n",
       "      <th>SPB_XTD9_XGM/XGM/DOOCS/pressure.pressureFiltered</th>\n",
       "      <th>SPB_XTD9_XGM/XGM/DOOCS/gasSupply.gsdCompatId</th>\n",
       "      <th>SPB_XTD9_XGM/XGM/DOOCS/pulseEnergy.pressure</th>\n",
       "      <th>SPB_XTD9_XGM/XGM/DOOCS/pulseEnergy.temperature</th>\n",
       "      <th>SPB_XTD9_XGM/XGM/DOOCS/pulseEnergy.wavelengthUsed</th>\n",
       "      <th>SPB_XTD9_XGM/XGM/DOOCS/pulseEnergy.photonFlux</th>\n",
       "    </tr>\n",
       "    <tr>\n",
       "      <th>trainId</th>\n",
       "      <th></th>\n",
       "      <th></th>\n",
       "      <th></th>\n",
       "      <th></th>\n",
       "      <th></th>\n",
       "      <th></th>\n",
       "      <th></th>\n",
       "      <th></th>\n",
       "      <th></th>\n",
       "      <th></th>\n",
       "      <th></th>\n",
       "      <th></th>\n",
       "      <th></th>\n",
       "      <th></th>\n",
       "      <th></th>\n",
       "      <th></th>\n",
       "      <th></th>\n",
       "      <th></th>\n",
       "      <th></th>\n",
       "      <th></th>\n",
       "      <th></th>\n",
       "    </tr>\n",
       "  </thead>\n",
       "  <tbody>\n",
       "    <tr>\n",
       "      <th>198425241</th>\n",
       "      <td>1.293711</td>\n",
       "      <td>412.100006</td>\n",
       "      <td>1.385747e-10</td>\n",
       "      <td>1.297712e-10</td>\n",
       "      <td>2</td>\n",
       "      <td>0.047601</td>\n",
       "      <td>2</td>\n",
       "      <td>2</td>\n",
       "      <td>0.000050</td>\n",
       "      <td>1.215298e-10</td>\n",
       "      <td>...</td>\n",
       "      <td>0.000003</td>\n",
       "      <td>2.137392e+09</td>\n",
       "      <td>1</td>\n",
       "      <td>50</td>\n",
       "      <td>0.000024</td>\n",
       "      <td>4</td>\n",
       "      <td>0.000024</td>\n",
       "      <td>23.120001</td>\n",
       "      <td>0.133316</td>\n",
       "      <td>404.392822</td>\n",
       "    </tr>\n",
       "    <tr>\n",
       "      <th>198425242</th>\n",
       "      <td>1.293711</td>\n",
       "      <td>412.100006</td>\n",
       "      <td>1.385747e-10</td>\n",
       "      <td>1.297712e-10</td>\n",
       "      <td>2</td>\n",
       "      <td>0.047601</td>\n",
       "      <td>2</td>\n",
       "      <td>2</td>\n",
       "      <td>0.000050</td>\n",
       "      <td>1.215298e-10</td>\n",
       "      <td>...</td>\n",
       "      <td>0.000003</td>\n",
       "      <td>2.137392e+09</td>\n",
       "      <td>1</td>\n",
       "      <td>50</td>\n",
       "      <td>0.000024</td>\n",
       "      <td>4</td>\n",
       "      <td>0.000024</td>\n",
       "      <td>23.120001</td>\n",
       "      <td>0.133316</td>\n",
       "      <td>404.392822</td>\n",
       "    </tr>\n",
       "    <tr>\n",
       "      <th>198425243</th>\n",
       "      <td>1.293711</td>\n",
       "      <td>412.100006</td>\n",
       "      <td>1.385747e-10</td>\n",
       "      <td>1.297712e-10</td>\n",
       "      <td>2</td>\n",
       "      <td>0.047601</td>\n",
       "      <td>2</td>\n",
       "      <td>2</td>\n",
       "      <td>0.000049</td>\n",
       "      <td>1.215298e-10</td>\n",
       "      <td>...</td>\n",
       "      <td>0.000003</td>\n",
       "      <td>2.137392e+09</td>\n",
       "      <td>1</td>\n",
       "      <td>50</td>\n",
       "      <td>0.000024</td>\n",
       "      <td>4</td>\n",
       "      <td>0.000024</td>\n",
       "      <td>23.120001</td>\n",
       "      <td>0.133316</td>\n",
       "      <td>404.392822</td>\n",
       "    </tr>\n",
       "    <tr>\n",
       "      <th>198425244</th>\n",
       "      <td>1.336566</td>\n",
       "      <td>412.100006</td>\n",
       "      <td>1.385747e-10</td>\n",
       "      <td>1.297712e-10</td>\n",
       "      <td>2</td>\n",
       "      <td>0.047601</td>\n",
       "      <td>2</td>\n",
       "      <td>2</td>\n",
       "      <td>0.000049</td>\n",
       "      <td>1.215298e-10</td>\n",
       "      <td>...</td>\n",
       "      <td>0.000003</td>\n",
       "      <td>2.137392e+09</td>\n",
       "      <td>1</td>\n",
       "      <td>50</td>\n",
       "      <td>0.000024</td>\n",
       "      <td>4</td>\n",
       "      <td>0.000024</td>\n",
       "      <td>23.120001</td>\n",
       "      <td>0.133316</td>\n",
       "      <td>404.392822</td>\n",
       "    </tr>\n",
       "    <tr>\n",
       "      <th>198425245</th>\n",
       "      <td>1.336566</td>\n",
       "      <td>412.100006</td>\n",
       "      <td>1.393239e-10</td>\n",
       "      <td>1.305283e-10</td>\n",
       "      <td>2</td>\n",
       "      <td>0.047601</td>\n",
       "      <td>2</td>\n",
       "      <td>2</td>\n",
       "      <td>0.000049</td>\n",
       "      <td>1.222363e-10</td>\n",
       "      <td>...</td>\n",
       "      <td>0.000003</td>\n",
       "      <td>2.137392e+09</td>\n",
       "      <td>1</td>\n",
       "      <td>50</td>\n",
       "      <td>0.000024</td>\n",
       "      <td>4</td>\n",
       "      <td>0.000024</td>\n",
       "      <td>23.120001</td>\n",
       "      <td>0.133316</td>\n",
       "      <td>404.392822</td>\n",
       "    </tr>\n",
       "    <tr>\n",
       "      <th>198425246</th>\n",
       "      <td>1.336566</td>\n",
       "      <td>412.100006</td>\n",
       "      <td>1.393239e-10</td>\n",
       "      <td>1.305283e-10</td>\n",
       "      <td>2</td>\n",
       "      <td>0.047601</td>\n",
       "      <td>2</td>\n",
       "      <td>2</td>\n",
       "      <td>0.000049</td>\n",
       "      <td>1.222363e-10</td>\n",
       "      <td>...</td>\n",
       "      <td>0.000003</td>\n",
       "      <td>2.137392e+09</td>\n",
       "      <td>1</td>\n",
       "      <td>50</td>\n",
       "      <td>0.000024</td>\n",
       "      <td>4</td>\n",
       "      <td>0.000024</td>\n",
       "      <td>23.120001</td>\n",
       "      <td>0.133316</td>\n",
       "      <td>404.392822</td>\n",
       "    </tr>\n",
       "    <tr>\n",
       "      <th>198425247</th>\n",
       "      <td>1.336566</td>\n",
       "      <td>412.100006</td>\n",
       "      <td>1.393239e-10</td>\n",
       "      <td>1.305283e-10</td>\n",
       "      <td>2</td>\n",
       "      <td>0.047601</td>\n",
       "      <td>2</td>\n",
       "      <td>2</td>\n",
       "      <td>0.000049</td>\n",
       "      <td>1.222363e-10</td>\n",
       "      <td>...</td>\n",
       "      <td>0.000003</td>\n",
       "      <td>2.137392e+09</td>\n",
       "      <td>1</td>\n",
       "      <td>50</td>\n",
       "      <td>0.000024</td>\n",
       "      <td>4</td>\n",
       "      <td>0.000024</td>\n",
       "      <td>23.120001</td>\n",
       "      <td>0.133316</td>\n",
       "      <td>404.665680</td>\n",
       "    </tr>\n",
       "    <tr>\n",
       "      <th>198425248</th>\n",
       "      <td>1.336566</td>\n",
       "      <td>412.100006</td>\n",
       "      <td>1.393239e-10</td>\n",
       "      <td>1.305283e-10</td>\n",
       "      <td>2</td>\n",
       "      <td>0.047601</td>\n",
       "      <td>2</td>\n",
       "      <td>2</td>\n",
       "      <td>0.000049</td>\n",
       "      <td>1.222363e-10</td>\n",
       "      <td>...</td>\n",
       "      <td>0.000003</td>\n",
       "      <td>2.137392e+09</td>\n",
       "      <td>1</td>\n",
       "      <td>50</td>\n",
       "      <td>0.000024</td>\n",
       "      <td>4</td>\n",
       "      <td>0.000024</td>\n",
       "      <td>23.120001</td>\n",
       "      <td>0.133316</td>\n",
       "      <td>404.665680</td>\n",
       "    </tr>\n",
       "    <tr>\n",
       "      <th>198425249</th>\n",
       "      <td>1.336566</td>\n",
       "      <td>412.100006</td>\n",
       "      <td>1.393239e-10</td>\n",
       "      <td>1.305283e-10</td>\n",
       "      <td>2</td>\n",
       "      <td>0.047601</td>\n",
       "      <td>2</td>\n",
       "      <td>2</td>\n",
       "      <td>0.000049</td>\n",
       "      <td>1.222363e-10</td>\n",
       "      <td>...</td>\n",
       "      <td>0.000003</td>\n",
       "      <td>2.137392e+09</td>\n",
       "      <td>1</td>\n",
       "      <td>50</td>\n",
       "      <td>0.000024</td>\n",
       "      <td>4</td>\n",
       "      <td>0.000024</td>\n",
       "      <td>23.120001</td>\n",
       "      <td>0.133316</td>\n",
       "      <td>406.852539</td>\n",
       "    </tr>\n",
       "    <tr>\n",
       "      <th>198425250</th>\n",
       "      <td>1.336566</td>\n",
       "      <td>412.100006</td>\n",
       "      <td>1.393239e-10</td>\n",
       "      <td>1.305283e-10</td>\n",
       "      <td>2</td>\n",
       "      <td>0.047601</td>\n",
       "      <td>2</td>\n",
       "      <td>2</td>\n",
       "      <td>0.000049</td>\n",
       "      <td>1.222363e-10</td>\n",
       "      <td>...</td>\n",
       "      <td>0.000003</td>\n",
       "      <td>2.137392e+09</td>\n",
       "      <td>1</td>\n",
       "      <td>50</td>\n",
       "      <td>0.000024</td>\n",
       "      <td>4</td>\n",
       "      <td>0.000024</td>\n",
       "      <td>23.120001</td>\n",
       "      <td>0.133316</td>\n",
       "      <td>406.852539</td>\n",
       "    </tr>\n",
       "  </tbody>\n",
       "</table>\n",
       "<p>10 rows × 64 columns</p>\n",
       "</div>"
      ],
      "text/plain": [
       "           SA1_XTD2_XGM/XGM/DOOCS/beamPosition.ixPos  \\\n",
       "trainId                                                \n",
       "198425241                                   1.293711   \n",
       "198425242                                   1.293711   \n",
       "198425243                                   1.293711   \n",
       "198425244                                   1.336566   \n",
       "198425245                                   1.336566   \n",
       "198425246                                   1.336566   \n",
       "198425247                                   1.336566   \n",
       "198425248                                   1.336566   \n",
       "198425249                                   1.336566   \n",
       "198425250                                   1.336566   \n",
       "\n",
       "           SA1_XTD2_XGM/XGM/DOOCS/pressure.rsp  \\\n",
       "trainId                                          \n",
       "198425241                           412.100006   \n",
       "198425242                           412.100006   \n",
       "198425243                           412.100006   \n",
       "198425244                           412.100006   \n",
       "198425245                           412.100006   \n",
       "198425246                           412.100006   \n",
       "198425247                           412.100006   \n",
       "198425248                           412.100006   \n",
       "198425249                           412.100006   \n",
       "198425250                           412.100006   \n",
       "\n",
       "           SA1_XTD2_XGM/XGM/DOOCS/current.top.output  \\\n",
       "trainId                                                \n",
       "198425241                               1.385747e-10   \n",
       "198425242                               1.385747e-10   \n",
       "198425243                               1.385747e-10   \n",
       "198425244                               1.385747e-10   \n",
       "198425245                               1.393239e-10   \n",
       "198425246                               1.393239e-10   \n",
       "198425247                               1.393239e-10   \n",
       "198425248                               1.393239e-10   \n",
       "198425249                               1.393239e-10   \n",
       "198425250                               1.393239e-10   \n",
       "\n",
       "           SA1_XTD2_XGM/XGM/DOOCS/current.bottom.output  \\\n",
       "trainId                                                   \n",
       "198425241                                  1.297712e-10   \n",
       "198425242                                  1.297712e-10   \n",
       "198425243                                  1.297712e-10   \n",
       "198425244                                  1.297712e-10   \n",
       "198425245                                  1.305283e-10   \n",
       "198425246                                  1.305283e-10   \n",
       "198425247                                  1.305283e-10   \n",
       "198425248                                  1.305283e-10   \n",
       "198425249                                  1.305283e-10   \n",
       "198425250                                  1.305283e-10   \n",
       "\n",
       "           SA1_XTD2_XGM/XGM/DOOCS/current.right.rangeCode  \\\n",
       "trainId                                                     \n",
       "198425241                                               2   \n",
       "198425242                                               2   \n",
       "198425243                                               2   \n",
       "198425244                                               2   \n",
       "198425245                                               2   \n",
       "198425246                                               2   \n",
       "198425247                                               2   \n",
       "198425248                                               2   \n",
       "198425249                                               2   \n",
       "198425250                                               2   \n",
       "\n",
       "           SA1_XTD2_XGM/XGM/DOOCS/pulseEnergy.crossUsed  \\\n",
       "trainId                                                   \n",
       "198425241                                      0.047601   \n",
       "198425242                                      0.047601   \n",
       "198425243                                      0.047601   \n",
       "198425244                                      0.047601   \n",
       "198425245                                      0.047601   \n",
       "198425246                                      0.047601   \n",
       "198425247                                      0.047601   \n",
       "198425248                                      0.047601   \n",
       "198425249                                      0.047601   \n",
       "198425250                                      0.047601   \n",
       "\n",
       "           SA1_XTD2_XGM/XGM/DOOCS/current.top.rangeCode  \\\n",
       "trainId                                                   \n",
       "198425241                                             2   \n",
       "198425242                                             2   \n",
       "198425243                                             2   \n",
       "198425244                                             2   \n",
       "198425245                                             2   \n",
       "198425246                                             2   \n",
       "198425247                                             2   \n",
       "198425248                                             2   \n",
       "198425249                                             2   \n",
       "198425250                                             2   \n",
       "\n",
       "           SA1_XTD2_XGM/XGM/DOOCS/current.bottom.rangeCode  \\\n",
       "trainId                                                      \n",
       "198425241                                                2   \n",
       "198425242                                                2   \n",
       "198425243                                                2   \n",
       "198425244                                                2   \n",
       "198425245                                                2   \n",
       "198425246                                                2   \n",
       "198425247                                                2   \n",
       "198425248                                                2   \n",
       "198425249                                                2   \n",
       "198425250                                                2   \n",
       "\n",
       "           SA1_XTD2_XGM/XGM/DOOCS/gasDosing.measuredPressure  \\\n",
       "trainId                                                        \n",
       "198425241                                           0.000050   \n",
       "198425242                                           0.000050   \n",
       "198425243                                           0.000049   \n",
       "198425244                                           0.000049   \n",
       "198425245                                           0.000049   \n",
       "198425246                                           0.000049   \n",
       "198425247                                           0.000049   \n",
       "198425248                                           0.000049   \n",
       "198425249                                           0.000049   \n",
       "198425250                                           0.000049   \n",
       "\n",
       "           SA1_XTD2_XGM/XGM/DOOCS/current.left.output  \\\n",
       "trainId                                                 \n",
       "198425241                                1.215298e-10   \n",
       "198425242                                1.215298e-10   \n",
       "198425243                                1.215298e-10   \n",
       "198425244                                1.215298e-10   \n",
       "198425245                                1.222363e-10   \n",
       "198425246                                1.222363e-10   \n",
       "198425247                                1.222363e-10   \n",
       "198425248                                1.222363e-10   \n",
       "198425249                                1.222363e-10   \n",
       "198425250                                1.222363e-10   \n",
       "\n",
       "                               ...                        \\\n",
       "trainId                        ...                         \n",
       "198425241                      ...                         \n",
       "198425242                      ...                         \n",
       "198425243                      ...                         \n",
       "198425244                      ...                         \n",
       "198425245                      ...                         \n",
       "198425246                      ...                         \n",
       "198425247                      ...                         \n",
       "198425248                      ...                         \n",
       "198425249                      ...                         \n",
       "198425250                      ...                         \n",
       "\n",
       "           SPB_XTD9_XGM/XGM/DOOCS/pressure.dcr  \\\n",
       "trainId                                          \n",
       "198425241                             0.000003   \n",
       "198425242                             0.000003   \n",
       "198425243                             0.000003   \n",
       "198425244                             0.000003   \n",
       "198425245                             0.000003   \n",
       "198425246                             0.000003   \n",
       "198425247                             0.000003   \n",
       "198425248                             0.000003   \n",
       "198425249                             0.000003   \n",
       "198425250                             0.000003   \n",
       "\n",
       "           SPB_XTD9_XGM/XGM/DOOCS/pulseEnergy.conversion  \\\n",
       "trainId                                                    \n",
       "198425241                                   2.137392e+09   \n",
       "198425242                                   2.137392e+09   \n",
       "198425243                                   2.137392e+09   \n",
       "198425244                                   2.137392e+09   \n",
       "198425245                                   2.137392e+09   \n",
       "198425246                                   2.137392e+09   \n",
       "198425247                                   2.137392e+09   \n",
       "198425248                                   2.137392e+09   \n",
       "198425249                                   2.137392e+09   \n",
       "198425250                                   2.137392e+09   \n",
       "\n",
       "           SPB_XTD9_XGM/XGM/DOOCS/pressure.gasType  \\\n",
       "trainId                                              \n",
       "198425241                                        1   \n",
       "198425242                                        1   \n",
       "198425243                                        1   \n",
       "198425244                                        1   \n",
       "198425245                                        1   \n",
       "198425246                                        1   \n",
       "198425247                                        1   \n",
       "198425248                                        1   \n",
       "198425249                                        1   \n",
       "198425250                                        1   \n",
       "\n",
       "           SPB_XTD9_XGM/XGM/DOOCS/pollingInterval  \\\n",
       "trainId                                             \n",
       "198425241                                      50   \n",
       "198425242                                      50   \n",
       "198425243                                      50   \n",
       "198425244                                      50   \n",
       "198425245                                      50   \n",
       "198425246                                      50   \n",
       "198425247                                      50   \n",
       "198425248                                      50   \n",
       "198425249                                      50   \n",
       "198425250                                      50   \n",
       "\n",
       "           SPB_XTD9_XGM/XGM/DOOCS/pressure.pressureFiltered  \\\n",
       "trainId                                                       \n",
       "198425241                                          0.000024   \n",
       "198425242                                          0.000024   \n",
       "198425243                                          0.000024   \n",
       "198425244                                          0.000024   \n",
       "198425245                                          0.000024   \n",
       "198425246                                          0.000024   \n",
       "198425247                                          0.000024   \n",
       "198425248                                          0.000024   \n",
       "198425249                                          0.000024   \n",
       "198425250                                          0.000024   \n",
       "\n",
       "           SPB_XTD9_XGM/XGM/DOOCS/gasSupply.gsdCompatId  \\\n",
       "trainId                                                   \n",
       "198425241                                             4   \n",
       "198425242                                             4   \n",
       "198425243                                             4   \n",
       "198425244                                             4   \n",
       "198425245                                             4   \n",
       "198425246                                             4   \n",
       "198425247                                             4   \n",
       "198425248                                             4   \n",
       "198425249                                             4   \n",
       "198425250                                             4   \n",
       "\n",
       "           SPB_XTD9_XGM/XGM/DOOCS/pulseEnergy.pressure  \\\n",
       "trainId                                                  \n",
       "198425241                                     0.000024   \n",
       "198425242                                     0.000024   \n",
       "198425243                                     0.000024   \n",
       "198425244                                     0.000024   \n",
       "198425245                                     0.000024   \n",
       "198425246                                     0.000024   \n",
       "198425247                                     0.000024   \n",
       "198425248                                     0.000024   \n",
       "198425249                                     0.000024   \n",
       "198425250                                     0.000024   \n",
       "\n",
       "           SPB_XTD9_XGM/XGM/DOOCS/pulseEnergy.temperature  \\\n",
       "trainId                                                     \n",
       "198425241                                       23.120001   \n",
       "198425242                                       23.120001   \n",
       "198425243                                       23.120001   \n",
       "198425244                                       23.120001   \n",
       "198425245                                       23.120001   \n",
       "198425246                                       23.120001   \n",
       "198425247                                       23.120001   \n",
       "198425248                                       23.120001   \n",
       "198425249                                       23.120001   \n",
       "198425250                                       23.120001   \n",
       "\n",
       "           SPB_XTD9_XGM/XGM/DOOCS/pulseEnergy.wavelengthUsed  \\\n",
       "trainId                                                        \n",
       "198425241                                           0.133316   \n",
       "198425242                                           0.133316   \n",
       "198425243                                           0.133316   \n",
       "198425244                                           0.133316   \n",
       "198425245                                           0.133316   \n",
       "198425246                                           0.133316   \n",
       "198425247                                           0.133316   \n",
       "198425248                                           0.133316   \n",
       "198425249                                           0.133316   \n",
       "198425250                                           0.133316   \n",
       "\n",
       "           SPB_XTD9_XGM/XGM/DOOCS/pulseEnergy.photonFlux  \n",
       "trainId                                                   \n",
       "198425241                                     404.392822  \n",
       "198425242                                     404.392822  \n",
       "198425243                                     404.392822  \n",
       "198425244                                     404.392822  \n",
       "198425245                                     404.392822  \n",
       "198425246                                     404.392822  \n",
       "198425247                                     404.665680  \n",
       "198425248                                     404.665680  \n",
       "198425249                                     406.852539  \n",
       "198425250                                     406.852539  \n",
       "\n",
       "[10 rows x 64 columns]"
      ]
     },
     "execution_count": 17,
     "metadata": {},
     "output_type": "execute_result"
    }
   ],
   "source": [
    "#Live-demo (get dataframe)\n",
    "xgm_data.head(10)"
   ]
  },
  {
   "cell_type": "code",
   "execution_count": 18,
   "metadata": {
    "slideshow": {
     "slide_type": "notes"
    }
   },
   "outputs": [
    {
     "data": {
      "text/plain": [
       "<matplotlib.axes._subplots.AxesSubplot at 0x2abeefb098d0>"
      ]
     },
     "execution_count": 18,
     "metadata": {},
     "output_type": "execute_result"
    },
    {
     "data": {
      "image/png": "[encoded data removed]",
      "text/plain": [
       "<Figure size 432x288 with 1 Axes>"
      ]
     },
     "metadata": {},
     "output_type": "display_data"
    }
   ],
   "source": [
    "#fig = plt.figure(figsize=(10,5))\n",
    "xgm_data.plot.scatter(x='SA1_XTD2_XGM/XGM/DOOCS/beamPosition.iyPos', y='SPB_XTD9_XGM/XGM/DOOCS/beamPosition.iyPos')"
   ]
  },
  {
   "cell_type": "markdown",
   "metadata": {
    "slideshow": {
     "slide_type": "subslide"
    }
   },
   "source": [
    "### What is *pandas*\n",
    "*get_dataframe* and *get_series* return **pandas** objects which are extremely useful for extensive data analysis tasks. More information is available under https://pandas.pydata.org."
   ]
  },
  {
   "cell_type": "markdown",
   "metadata": {
    "slideshow": {
     "slide_type": "slide"
    }
   },
   "source": [
    "## Scenario IV: Getting data with multiple values per train\n",
    "<figure>\n",
    "<center><img src='img/XGMIntensity.png' style='height:350px;'></center>\n",
    "<figcaption style=\"text-align: right\">XGM intensity data is pulse resolved</figcaption>\n",
    "</figure>\n",
    "\n",
    "* How can this 2D data be extracted and plotted?"
   ]
  },
  {
   "cell_type": "markdown",
   "metadata": {
    "slideshow": {
     "slide_type": "fragment"
    }
   },
   "source": [
    "the *get_array* method returns a data array that contains more than one value per train. XGM intensity data is pulse resolved and serves as an example:"
   ]
  },
  {
   "cell_type": "code",
   "execution_count": 6,
   "metadata": {
    "scrolled": false,
    "slideshow": {
     "slide_type": "notes"
    }
   },
   "outputs": [
    {
     "data": {
      "text/plain": [
       "<xarray.DataArray (trainId: 156, pulseId: 1000)>\n",
       "array([[ 957.0532 , 1026.0005 ,  949.8755 , ...,    0.     ,    0.     ,\n",
       "           0.     ],\n",
       "       [ 763.8806 ,  794.2738 ,  868.2455 , ...,    0.     ,    0.     ,\n",
       "           0.     ],\n",
       "       [ 859.37   ,  995.1641 ,  838.5669 , ...,    0.     ,    0.     ,\n",
       "           0.     ],\n",
       "       ...,\n",
       "       [ 945.2731 ,  812.4336 ,  839.45654, ...,    0.     ,    0.     ,\n",
       "           0.     ],\n",
       "       [ 903.26855,  940.15125,  953.9436 , ...,    0.     ,    0.     ,\n",
       "           0.     ],\n",
       "       [ 944.08386,  949.549  ,  861.7509 , ...,    0.     ,    0.     ,\n",
       "           0.     ]], dtype=float32)\n",
       "Coordinates:\n",
       "  * trainId  (trainId) uint64 198425241 198425242 ... 198425395 198425396\n",
       "Dimensions without coordinates: pulseId"
      ]
     },
     "execution_count": 6,
     "metadata": {},
     "output_type": "execute_result"
    }
   ],
   "source": [
    "#Live-demo get array\n",
    "xgm_intensity = run_dir.get_array('SA1_XTD2_XGM/XGM/DOOCS:output', 'data.intensityTD', \n",
    "                                  extra_dims=['pulseId'])\n",
    "xgm_intensity"
   ]
  },
  {
   "cell_type": "code",
   "execution_count": 14,
   "metadata": {
    "scrolled": false,
    "slideshow": {
     "slide_type": "notes"
    }
   },
   "outputs": [
    {
     "data": {
      "image/png": "[encoded data removed]",
      "text/plain": [
       "<Figure size 720x576 with 1 Axes>"
      ]
     },
     "metadata": {},
     "output_type": "display_data"
    }
   ],
   "source": [
    "#Live-demo (plot)\n",
    "fig = plt.figure(figsize=(10,8))\n",
    "ax = fig.add_subplot(111)\n",
    "im = ax.imshow(xgm_intensity[:,:100].T,\n",
    "              extent=(xgm_intensity.trainId[0], xgm_intensity.trainId[-1], 1, 100),\n",
    "              origin='lower', cmap='RdYlBu_r')\n",
    "_ = ax.set_xlabel('TrainId', fontsize=20)\n",
    "ax.xaxis.set_tick_params(labelsize=16)\n",
    "ax.yaxis.set_tick_params(labelsize=16)\n",
    "fig.savefig('img/XGMIntensity.png', bbox_inches='tight', format='png')"
   ]
  },
  {
   "cell_type": "markdown",
   "metadata": {
    "slideshow": {
     "slide_type": "subslide"
    }
   },
   "source": [
    "a labeled array (**xarray**) is returned. More information on labeled arrays can be found on http://xarray.pydata.org"
   ]
  },
  {
   "cell_type": "markdown",
   "metadata": {
    "slideshow": {
     "slide_type": "slide"
    }
   },
   "source": [
    "## Scenario V: In the unlikely event if something goes wrong\n",
    "A common source of errors is an invalid structure of the created data files. Hence a useful starting point to debug any errors is to check for valid file structures using the ```karabo-data-validate``` command"
   ]
  },
  {
   "cell_type": "markdown",
   "metadata": {
    "slideshow": {
     "slide_type": "fragment"
    }
   },
   "source": [
    "<div class=\"highlight\"><font size='8'>\n",
    "    <pre><span></span><span class=\"gp\">$</span>: karabo-data-validate /gpfs/exfel/exp/XMPL/201750/p700000/raw/r0273\n",
    "<span class=\"go\">Checking run directory: /gpfs/exfel/exp/XMPL/201750/p700000/raw/r0273</span>\n",
    "<span class=\"go\">No problems found</span>\n",
    "</pre></font></div>\n"
   ]
  },
  {
   "cell_type": "markdown",
   "metadata": {
    "slideshow": {
     "slide_type": "fragment"
    }
   },
   "source": [
    "The command checks if:\n",
    "\n",
    "* All .h5 files in a run can be opened, and the run contains at least one usable file.\n",
    "* The list of train IDs in a file has no zeros except for padding at the end.\n",
    "* Each train ID in a file is greater than the one before it.\n",
    "* The indexes do not point to data beyond the end of a dataset.\n",
    "* The indexes point to the start of the dataset, and then to successive chunks for successive trains, without gaps or overlaps between them.\n"
   ]
  },
  {
   "cell_type": "markdown",
   "metadata": {
    "collapsed": true,
    "slideshow": {
     "slide_type": "slide"
    }
   },
   "source": [
    "# How to install/get karabo-data?\n",
    "\n",
    "Karabo-data is available on GitHub and there are multiple ways to install it:\n",
    "* it is automatically available when you enter maxwell via jupyther-hub &rarr; https://max-jhub.desy.de\n",
    "* it is installed in maxwell's anaconda environment &rarr; ```module load anaconda/3```\n",
    "* it can be install using *pip* &rarr; ```pip install (--user) karabo_data```\n",
    "* the latest version could be downloaded from GitHub &rarr; ```git clone https://github.com/European-XFEL/karabo_data.git```\n",
    "\n",
    "**A much more detailed documentation is available on *readthedocs* **:\n",
    "\n",
    "https://karabo-data.readthedocs.io/en/latest/"
   ]
  },
  {
   "cell_type": "code",
   "execution_count": null,
   "metadata": {
    "collapsed": true,
    "slideshow": {
     "slide_type": "skip"
    }
   },
   "outputs": [],
   "source": []
  }
 ],
 "metadata": {
  "celltoolbar": "Slideshow",
  "kernelspec": {
   "display_name": "Python 3",
   "language": "python",
   "name": "python3"
  },
  "language_info": {
   "codemirror_mode": {
    "name": "ipython",
    "version": 3
   },
   "file_extension": ".py",
   "mimetype": "text/x-python",
   "name": "python",
   "nbconvert_exporter": "python",
   "pygments_lexer": "ipython3",
   "version": "3.6.5"
  }
 },
 "nbformat": 4,
 "nbformat_minor": 2
}
