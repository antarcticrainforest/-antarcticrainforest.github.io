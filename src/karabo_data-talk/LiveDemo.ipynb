{
 "cells": [
  {
   "cell_type": "code",
   "execution_count": null,
   "metadata": {},
   "outputs": [],
   "source": [
    "import warnings\n",
    "\n",
    "from IPython.display import HTML\n",
    "import matplotlib\n",
    "from matplotlib import pyplot as plt\n",
    "import numpy as np\n",
    "from matplotlib.cm import viridis\n",
    "import matplotlib\n",
    "viridis.set_bad('0.25',1)\n",
    "matplotlib.rc('image', cmap=viridis, origin='lower')\n",
    "\n",
    "warnings.filterwarnings(\"ignore\")\n",
    "%matplotlib inline\n",
    "import karabo_data as kd\n",
    "run_folder = '/gpfs/exfel/exp/XMPL/201750/p700000/raw/r0273'\n",
    "exmpl_file = '/gpfs/exfel/exp/XMPL/201750/p700000/proc/r0273/CORR-R0273-AGIPD03-S00000.h5'\n",
    "hdf5_file = kd.H5File(exmpl_file)\n",
    "run_dir = kd.RunDirectory(run_folder)"
   ]
  },
  {
   "cell_type": "markdown",
   "metadata": {},
   "source": [
    "### Reading a run directory:\n",
    "One of the big advantages of karabo-data is that whole runs can be read with only *one* command:"
   ]
  },
  {
   "cell_type": "code",
   "execution_count": null,
   "metadata": {},
   "outputs": [],
   "source": [
    "import karabo_data as kd\n",
    "run_dir = '/gpfs/exfel/exp/XMPL/201750/p700000/proc/r0273'\n",
    "run_data = kd.RunDirectory(run_dir)"
   ]
  },
  {
   "cell_type": "code",
   "execution_count": null,
   "metadata": {},
   "outputs": [],
   "source": [
    "#selet trains based on indexes\n",
    "train_id, train_data = run_data.train_from_index(10)\n",
    "train_id, type(train_data)"
   ]
  },
  {
   "cell_type": "code",
   "execution_count": null,
   "metadata": {},
   "outputs": [],
   "source": [
    "# a dictionary with key and value pairs is returned\n",
    "sorted(train_data.keys())"
   ]
  },
  {
   "cell_type": "code",
   "execution_count": null,
   "metadata": {},
   "outputs": [],
   "source": [
    "# selecting a module to inspect the content\n",
    "module_data = train_data['SPB_DET_AGIPD1M-1/DET/0CH0:xtdf']\n",
    "sorted(module_data.keys())"
   ]
  },
  {
   "cell_type": "code",
   "execution_count": null,
   "metadata": {
    "scrolled": true
   },
   "outputs": [],
   "source": [
    "#The actual detector data is stored under the property value *image.data*\n",
    "img_ary = module_data['image.data']\n",
    "img_ary"
   ]
  },
  {
   "cell_type": "code",
   "execution_count": null,
   "metadata": {},
   "outputs": [],
   "source": [
    "img_ary.shape"
   ]
  },
  {
   "cell_type": "code",
   "execution_count": null,
   "metadata": {},
   "outputs": [],
   "source": [
    "# Create one big array from all detector modules\n",
    "train_img = kd.stack_detector_data(train_data, 'image.data', only='SPB_DET_AGIPD1M-1/DET')\n",
    "train_img.shape"
   ]
  },
  {
   "cell_type": "code",
   "execution_count": null,
   "metadata": {},
   "outputs": [],
   "source": [
    "# Applying the geometry information\n",
    "from karabo_data.geometry2 import AGIPD_1MGeometry\n",
    "geom = AGIPD_1MGeometry.from_crystfel_geom('xfel.geom')\n",
    "type(geom)"
   ]
  },
  {
   "cell_type": "code",
   "execution_count": null,
   "metadata": {},
   "outputs": [],
   "source": [
    "img, center = geom.position_all_modules(train_img)\n",
    "img.shape"
   ]
  },
  {
   "cell_type": "code",
   "execution_count": null,
   "metadata": {},
   "outputs": [],
   "source": [
    "from matplotlib import pyplot as plt\n",
    "plt.imshow(np.clip(img[10], -50, 1500))"
   ]
  },
  {
   "cell_type": "code",
   "execution_count": null,
   "metadata": {},
   "outputs": [],
   "source": [
    "# There is a plotting routine that makes it even easier\n",
    "geom.plot_data_fast(np.clip(train_img[10], -50, 1500))"
   ]
  }
 ],
 "metadata": {
  "kernelspec": {
   "display_name": "Python 3",
   "language": "python",
   "name": "python3"
  },
  "language_info": {
   "codemirror_mode": {
    "name": "ipython",
    "version": 3
   },
   "file_extension": ".py",
   "mimetype": "text/x-python",
   "name": "python",
   "nbconvert_exporter": "python",
   "pygments_lexer": "ipython3",
   "version": "3.6.5"
  }
 },
 "nbformat": 4,
 "nbformat_minor": 2
}
