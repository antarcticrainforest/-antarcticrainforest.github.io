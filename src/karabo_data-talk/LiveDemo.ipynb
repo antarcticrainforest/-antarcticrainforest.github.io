{
 "cells": [
  {
   "cell_type": "code",
   "execution_count": null,
   "metadata": {
    "collapsed": true
   },
   "outputs": [],
   "source": [
    "import warnings\n",
    "\n",
    "from IPython.display import HTML\n",
    "import matplotlib\n",
    "from matplotlib import pyplot as plt\n",
    "import numpy as np\n",
    "plt.rcParams['figure.figsize'] = (20.0, 10.0)\n",
    "matplotlib.rc('image', cmap='RdYlBu')\n",
    "\n",
    "warnings.filterwarnings(\"ignore\")\n",
    "%matplotlib inline"
   ]
  },
  {
   "cell_type": "code",
   "execution_count": null,
   "metadata": {
    "collapsed": true
   },
   "outputs": [],
   "source": [
    "#(Open dataset)\n",
    "import karabo_data as kd\n",
    "exmpl_file = '/gpfs/exfel/exp/XMPL/201750/p700000/proc/r0273/CORR-R0273-AGIPD03-S00000.h5'\n",
    "hdf5_file = kd.H5File(exmpl_file)"
   ]
  },
  {
   "cell_type": "markdown",
   "metadata": {},
   "source": [
    "Back to talk"
   ]
  },
  {
   "cell_type": "code",
   "execution_count": null,
   "metadata": {},
   "outputs": [],
   "source": [
    "#Live-demo (sel from train-id)\n",
    "train_id, train_data = hdf5_file.train_from_id(198425246)\n",
    "print(train_id, train_data.keys())"
   ]
  },
  {
   "cell_type": "code",
   "execution_count": null,
   "metadata": {},
   "outputs": [],
   "source": [
    "#Live-demo (sel from index)\n",
    "train_id, train_data = hdf5_file.train_from_index(5)\n",
    "print(train_id, train_data.keys())"
   ]
  },
  {
   "cell_type": "code",
   "execution_count": null,
   "metadata": {},
   "outputs": [],
   "source": [
    "#Live-demo (iteration)\n",
    "for train_id, train_data in hdf5_file.trains():\n",
    "    print(train_id, train_data.keys())\n",
    "    break"
   ]
  },
  {
   "cell_type": "markdown",
   "metadata": {},
   "source": [
    "Train data is of type dictionary. Hence the data can be accessed by giving keys:"
   ]
  },
  {
   "cell_type": "code",
   "execution_count": null,
   "metadata": {},
   "outputs": [],
   "source": [
    "#Live-demo show-dict\n",
    "train_data['SPB_DET_AGIPD1M-1/DET/3CH0:xtdf']"
   ]
  },
  {
   "cell_type": "code",
   "execution_count": null,
   "metadata": {},
   "outputs": [],
   "source": [
    "#Live-demo data array and plot\n",
    "print(train_data['SPB_DET_AGIPD1M-1/DET/3CH0:xtdf']['image.data'].shape)\n",
    "print(type(train_data['SPB_DET_AGIPD1M-1/DET/3CH0:xtdf']['image.data']))\n",
    "from matplotlib import pyplot as plt\n",
    "fig = plt.figure(figsize=(10,10))\n",
    "_ = plt.imshow(train_data['SPB_DET_AGIPD1M-1/DET/3CH0:xtdf']['image.data'][0].T, \n",
    "               vmin=-50, vmax=100)"
   ]
  },
  {
   "cell_type": "markdown",
   "metadata": {},
   "source": [
    "Back to talk"
   ]
  },
  {
   "cell_type": "code",
   "execution_count": null,
   "metadata": {},
   "outputs": [],
   "source": [
    "#Live-demo run dir\n",
    "run_folder = '/gpfs/exfel/exp/XMPL/201750/p700000/raw/r0273'\n",
    "run_dir = kd.RunDirectory(run_folder)\n",
    "run_dir.info()"
   ]
  },
  {
   "cell_type": "markdown",
   "metadata": {},
   "source": [
    "Back to talk"
   ]
  },
  {
   "cell_type": "code",
   "execution_count": null,
   "metadata": {},
   "outputs": [],
   "source": [
    "#Live-demo select with glob pattern\n",
    "sel = run_dir.select('*/DET/*', 'image.*')\n",
    "sel.all_sources"
   ]
  },
  {
   "cell_type": "markdown",
   "metadata": {},
   "source": [
    "Data can be access just like *previously* mentioned:"
   ]
  },
  {
   "cell_type": "code",
   "execution_count": null,
   "metadata": {},
   "outputs": [],
   "source": [
    "#Live-demo (iterator example)\n",
    "for train_id, train_data in sel.trains():\n",
    "    #print(train_id, train_data.keys())\n",
    "    break\n",
    "train_id, train_data = sel.train_from_index(5)\n",
    "train_id, train_data.keys()"
   ]
  },
  {
   "cell_type": "markdown",
   "metadata": {},
   "source": [
    "Back to talk"
   ]
  },
  {
   "cell_type": "code",
   "execution_count": null,
   "metadata": {},
   "outputs": [],
   "source": [
    "#Live-demo get series and plot\n",
    "ph_flux = run_dir.get_series('SA1_XTD2_XGM/XGM/DOOCS', 'pulseEnergy.photonFlux.value')\n",
    "ph_flux.head()\n",
    "fig = plt.figure(figsize=(10,5))\n",
    "_ = ph_flux.plot()"
   ]
  },
  {
   "cell_type": "markdown",
   "metadata": {},
   "source": [
    "Back to talk"
   ]
  },
  {
   "cell_type": "code",
   "execution_count": null,
   "metadata": {},
   "outputs": [],
   "source": [
    "#Live-demo get dataframe\n",
    "fluxes_pos = run_dir.get_dataframe(fields=[(\"*_XGM/*\", \"*.photonFlux\"),\n",
    "                                           (\"*_XGM/*\", \"*.i[xy]Pos\")])\n",
    "fluxes_pos.head(10)"
   ]
  },
  {
   "cell_type": "markdown",
   "metadata": {},
   "source": [
    "Back to talk"
   ]
  },
  {
   "cell_type": "code",
   "execution_count": null,
   "metadata": {},
   "outputs": [],
   "source": [
    "#Live-demo get array\n",
    "xgm_intensity = run_dir.get_array('SA1_XTD2_XGM/XGM/DOOCS:output', 'data.intensityTD', \n",
    "                                  extra_dims=['pulseId'])\n",
    "xgm_intensity"
   ]
  },
  {
   "cell_type": "code",
   "execution_count": null,
   "metadata": {},
   "outputs": [],
   "source": [
    "#Live-demo plot xgm data\n",
    "fig = plt.figure(figsize=(10,8))\n",
    "_= plt.imshow(xgm_intensity[:,:120].T,\n",
    "              extent=(xgm_intensity.trainId[0], xgm_intensity.trainId[-1], 1, 120),\n",
    "              origin='lower', cmap='RdYlBu_r')"
   ]
  }
 ],
 "metadata": {
  "kernelspec": {
   "display_name": "Python [conda env:.anaconda3]",
   "language": "python",
   "name": "conda-env-.anaconda3-py"
  },
  "language_info": {
   "codemirror_mode": {
    "name": "ipython",
    "version": 3
   },
   "file_extension": ".py",
   "mimetype": "text/x-python",
   "name": "python",
   "nbconvert_exporter": "python",
   "pygments_lexer": "ipython3",
   "version": "3.6.5"
  }
 },
 "nbformat": 4,
 "nbformat_minor": 2
}
