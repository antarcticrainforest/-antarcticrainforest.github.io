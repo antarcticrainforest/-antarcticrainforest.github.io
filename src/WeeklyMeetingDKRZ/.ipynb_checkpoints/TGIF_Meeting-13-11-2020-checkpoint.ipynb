{
 "cells": [
  {
   "cell_type": "code",
   "execution_count": 1,
   "metadata": {
    "slideshow": {
     "slide_type": "skip"
    }
   },
   "outputs": [],
   "source": [
    "import warnings\n",
    "\n",
    "from IPython.display import HTML\n",
    "import folium\n",
    "\n",
    "warnings.simplefilter('ignore')"
   ]
  },
  {
   "cell_type": "markdown",
   "metadata": {
    "slideshow": {
     "slide_type": "slide"
    }
   },
   "source": [
    "<figure>\n",
    "<center><img src='TitlePage2.png' style='width:750px;'></center>\n",
    "<figcaption style=\"text-align: right\"></figcaption></figure>"
   ]
  },
  {
   "cell_type": "markdown",
   "metadata": {
    "slideshow": {
     "slide_type": "slide"
    }
   },
   "source": [
    "# First a little about myself <br><br>"
   ]
  },
  {
   "cell_type": "code",
   "execution_count": 3,
   "metadata": {
    "slideshow": {
     "slide_type": "fragment"
    }
   },
   "outputs": [
    {
     "data": {
      "text/html": [
       "<div style=\"width:100%;\"><div style=\"position:relative;width:100%;height:0;padding-bottom:60%;\"><span style=\"color:#565656\">Make this Notebook Trusted to load map: File -> Trust Notebook</span><iframe src=\"about:blank\" style=\"position:absolute;width:100%;height:100%;left:0;top:0;border:none !important;\" data-html=PCFET0NUWVBFIGh0bWw+CjxoZWFkPiAgICAKICAgIDxtZXRhIGh0dHAtZXF1aXY9ImNvbnRlbnQtdHlwZSIgY29udGVudD0idGV4dC9odG1sOyBjaGFyc2V0PVVURi04IiAvPgogICAgCiAgICAgICAgPHNjcmlwdD4KICAgICAgICAgICAgTF9OT19UT1VDSCA9IGZhbHNlOwogICAgICAgICAgICBMX0RJU0FCTEVfM0QgPSBmYWxzZTsKICAgICAgICA8L3NjcmlwdD4KICAgIAogICAgPHNjcmlwdCBzcmM9Imh0dHBzOi8vY2RuLmpzZGVsaXZyLm5ldC9ucG0vbGVhZmxldEAxLjYuMC9kaXN0L2xlYWZsZXQuanMiPjwvc2NyaXB0PgogICAgPHNjcmlwdCBzcmM9Imh0dHBzOi8vY29kZS5qcXVlcnkuY29tL2pxdWVyeS0xLjEyLjQubWluLmpzIj48L3NjcmlwdD4KICAgIDxzY3JpcHQgc3JjPSJodHRwczovL21heGNkbi5ib290c3RyYXBjZG4uY29tL2Jvb3RzdHJhcC8zLjIuMC9qcy9ib290c3RyYXAubWluLmpzIj48L3NjcmlwdD4KICAgIDxzY3JpcHQgc3JjPSJodHRwczovL2NkbmpzLmNsb3VkZmxhcmUuY29tL2FqYXgvbGlicy9MZWFmbGV0LmF3ZXNvbWUtbWFya2Vycy8yLjAuMi9sZWFmbGV0LmF3ZXNvbWUtbWFya2Vycy5qcyI+PC9zY3JpcHQ+CiAgICA8bGluayByZWw9InN0eWxlc2hlZXQiIGhyZWY9Imh0dHBzOi8vY2RuLmpzZGVsaXZyLm5ldC9ucG0vbGVhZmxldEAxLjYuMC9kaXN0L2xlYWZsZXQuY3NzIi8+CiAgICA8bGluayByZWw9InN0eWxlc2hlZXQiIGhyZWY9Imh0dHBzOi8vbWF4Y2RuLmJvb3RzdHJhcGNkbi5jb20vYm9vdHN0cmFwLzMuMi4wL2Nzcy9ib290c3RyYXAubWluLmNzcyIvPgogICAgPGxpbmsgcmVsPSJzdHlsZXNoZWV0IiBocmVmPSJodHRwczovL21heGNkbi5ib290c3RyYXBjZG4uY29tL2Jvb3RzdHJhcC8zLjIuMC9jc3MvYm9vdHN0cmFwLXRoZW1lLm1pbi5jc3MiLz4KICAgIDxsaW5rIHJlbD0ic3R5bGVzaGVldCIgaHJlZj0iaHR0cHM6Ly9tYXhjZG4uYm9vdHN0cmFwY2RuLmNvbS9mb250LWF3ZXNvbWUvNC42LjMvY3NzL2ZvbnQtYXdlc29tZS5taW4uY3NzIi8+CiAgICA8bGluayByZWw9InN0eWxlc2hlZXQiIGhyZWY9Imh0dHBzOi8vY2RuanMuY2xvdWRmbGFyZS5jb20vYWpheC9saWJzL0xlYWZsZXQuYXdlc29tZS1tYXJrZXJzLzIuMC4yL2xlYWZsZXQuYXdlc29tZS1tYXJrZXJzLmNzcyIvPgogICAgPGxpbmsgcmVsPSJzdHlsZXNoZWV0IiBocmVmPSJodHRwczovL3Jhd2Nkbi5naXRoYWNrLmNvbS9weXRob24tdmlzdWFsaXphdGlvbi9mb2xpdW0vbWFzdGVyL2ZvbGl1bS90ZW1wbGF0ZXMvbGVhZmxldC5hd2Vzb21lLnJvdGF0ZS5jc3MiLz4KICAgIDxzdHlsZT5odG1sLCBib2R5IHt3aWR0aDogMTAwJTtoZWlnaHQ6IDEwMCU7bWFyZ2luOiAwO3BhZGRpbmc6IDA7fTwvc3R5bGU+CiAgICA8c3R5bGU+I21hcCB7cG9zaXRpb246YWJzb2x1dGU7dG9wOjA7Ym90dG9tOjA7cmlnaHQ6MDtsZWZ0OjA7fTwvc3R5bGU+CiAgICAKICAgICAgICAgICAgPG1ldGEgbmFtZT0idmlld3BvcnQiIGNvbnRlbnQ9IndpZHRoPWRldmljZS13aWR0aCwKICAgICAgICAgICAgICAgIGluaXRpYWwtc2NhbGU9MS4wLCBtYXhpbXVtLXNjYWxlPTEuMCwgdXNlci1zY2FsYWJsZT1ubyIgLz4KICAgICAgICAgICAgPHN0eWxlPgogICAgICAgICAgICAgICAgI21hcF80OTI3ZDdkNjcxY2U0MmM1YTkyMWI0YjgwY2VjNDNmNyB7CiAgICAgICAgICAgICAgICAgICAgcG9zaXRpb246IHJlbGF0aXZlOwogICAgICAgICAgICAgICAgICAgIHdpZHRoOiAxMDAuMCU7CiAgICAgICAgICAgICAgICAgICAgaGVpZ2h0OiAxMDAuMCU7CiAgICAgICAgICAgICAgICAgICAgbGVmdDogMC4wJTsKICAgICAgICAgICAgICAgICAgICB0b3A6IDAuMCU7CiAgICAgICAgICAgICAgICB9CiAgICAgICAgICAgIDwvc3R5bGU+CiAgICAgICAgCjwvaGVhZD4KPGJvZHk+ICAgIAogICAgCiAgICAgICAgICAgIDxkaXYgY2xhc3M9ImZvbGl1bS1tYXAiIGlkPSJtYXBfNDkyN2Q3ZDY3MWNlNDJjNWE5MjFiNGI4MGNlYzQzZjciID48L2Rpdj4KICAgICAgICAKPC9ib2R5Pgo8c2NyaXB0PiAgICAKICAgIAogICAgICAgICAgICB2YXIgbWFwXzQ5MjdkN2Q2NzFjZTQyYzVhOTIxYjRiODBjZWM0M2Y3ID0gTC5tYXAoCiAgICAgICAgICAgICAgICAibWFwXzQ5MjdkN2Q2NzFjZTQyYzVhOTIxYjRiODBjZWM0M2Y3IiwKICAgICAgICAgICAgICAgIHsKICAgICAgICAgICAgICAgICAgICBjZW50ZXI6IFs0OC4wLCAyMC4wXSwKICAgICAgICAgICAgICAgICAgICBjcnM6IEwuQ1JTLkVQU0czODU3LAogICAgICAgICAgICAgICAgICAgIHpvb206IDQuOSwKICAgICAgICAgICAgICAgICAgICB6b29tQ29udHJvbDogdHJ1ZSwKICAgICAgICAgICAgICAgICAgICBwcmVmZXJDYW52YXM6IGZhbHNlLAogICAgICAgICAgICAgICAgfQogICAgICAgICAgICApOwoKICAgICAgICAgICAgCgogICAgICAgIAogICAgCiAgICAgICAgICAgIHZhciB0aWxlX2xheWVyXzJkZjZhMmRkYmQxNzQyNTQ5M2Y3N2U3ZmU2MGFhZWQxID0gTC50aWxlTGF5ZXIoCiAgICAgICAgICAgICAgICAiaHR0cHM6Ly97c30udGlsZS5vcGVuc3RyZWV0bWFwLm9yZy97en0ve3h9L3t5fS5wbmciLAogICAgICAgICAgICAgICAgeyJhdHRyaWJ1dGlvbiI6ICJEYXRhIGJ5IFx1MDAyNmNvcHk7IFx1MDAzY2EgaHJlZj1cImh0dHA6Ly9vcGVuc3RyZWV0bWFwLm9yZ1wiXHUwMDNlT3BlblN0cmVldE1hcFx1MDAzYy9hXHUwMDNlLCB1bmRlciBcdTAwM2NhIGhyZWY9XCJodHRwOi8vd3d3Lm9wZW5zdHJlZXRtYXAub3JnL2NvcHlyaWdodFwiXHUwMDNlT0RiTFx1MDAzYy9hXHUwMDNlLiIsICJkZXRlY3RSZXRpbmEiOiBmYWxzZSwgIm1heE5hdGl2ZVpvb20iOiAxOCwgIm1heFpvb20iOiAxOCwgIm1pblpvb20iOiAwLCAibm9XcmFwIjogZmFsc2UsICJvcGFjaXR5IjogMSwgInN1YmRvbWFpbnMiOiAiYWJjIiwgInRtcyI6IGZhbHNlfQogICAgICAgICAgICApLmFkZFRvKG1hcF80OTI3ZDdkNjcxY2U0MmM1YTkyMWI0YjgwY2VjNDNmNyk7CiAgICAgICAgCiAgICAKICAgICAgICAgICAgdmFyIG1hcmtlcl9mOGZkNmE0MWE2NzU0NDBmYTQ5OTUzNzAzYmNiMzk1ZiA9IEwubWFya2VyKAogICAgICAgICAgICAgICAgWzUyLjk0NTUzLCAxMi4zODkyMTNdLAogICAgICAgICAgICAgICAge30KICAgICAgICAgICAgKS5hZGRUbyhtYXBfNDkyN2Q3ZDY3MWNlNDJjNWE5MjFiNGI4MGNlYzQzZjcpOwogICAgICAgIAogICAgCiAgICAgICAgICAgIHZhciBpY29uX2UyMmFhNzlhN2Y2MTRiNjViN2ExYWUwY2I4YWNkNzY2ID0gTC5Bd2Vzb21lTWFya2Vycy5pY29uKAogICAgICAgICAgICAgICAgeyJleHRyYUNsYXNzZXMiOiAiZmEtcm90YXRlLTAiLCAiaWNvbiI6ICJmYS11bml2ZXJzYWwtYWNjZXNzIiwgImljb25Db2xvciI6ICJ3aGl0ZSIsICJtYXJrZXJDb2xvciI6ICJsaWdodGJsdWUiLCAicHJlZml4IjogImZhIn0KICAgICAgICAgICAgKTsKICAgICAgICAgICAgbWFya2VyX2Y4ZmQ2YTQxYTY3NTQ0MGZhNDk5NTM3MDNiY2IzOTVmLnNldEljb24oaWNvbl9lMjJhYTc5YTdmNjE0YjY1YjdhMWFlMGNiOGFjZDc2Nik7CiAgICAgICAgCiAgICAKICAgICAgICB2YXIgcG9wdXBfNjFjZDkxNDBjZjhhNGQwNmIzNjkzNzcxNzFkMGJmZWEgPSBMLnBvcHVwKHsibWF4V2lkdGgiOiAiMTAwJSJ9KTsKCiAgICAgICAgCiAgICAgICAgICAgIHZhciBodG1sXzQ0ZjkxZGI1ZWYyZjQ3OWZhNGJlY2I5OWY5MzA5ZDM0ID0gJChgPGRpdiBpZD0iaHRtbF80NGY5MWRiNWVmMmY0NzlmYTRiZWNiOTlmOTMwOWQzNCIgc3R5bGU9IndpZHRoOiAxMDAuMCU7IGhlaWdodDogMTAwLjAlOyI+S3lyaXR6PC9kaXY+YClbMF07CiAgICAgICAgICAgIHBvcHVwXzYxY2Q5MTQwY2Y4YTRkMDZiMzY5Mzc3MTcxZDBiZmVhLnNldENvbnRlbnQoaHRtbF80NGY5MWRiNWVmMmY0NzlmYTRiZWNiOTlmOTMwOWQzNCk7CiAgICAgICAgCgogICAgICAgIG1hcmtlcl9mOGZkNmE0MWE2NzU0NDBmYTQ5OTUzNzAzYmNiMzk1Zi5iaW5kUG9wdXAocG9wdXBfNjFjZDkxNDBjZjhhNGQwNmIzNjkzNzcxNzFkMGJmZWEpCiAgICAgICAgOwoKICAgICAgICAKICAgIAogICAgCiAgICAgICAgICAgIHZhciBtYXJrZXJfMDZiOWY2Y2Q4NTViNGJiZGEwNTlhOTAxNDAyMGFkYjggPSBMLm1hcmtlcigKICAgICAgICAgICAgICAgIFs0OS45NDE5MzgsIDEyLjA4MzE3N10sCiAgICAgICAgICAgICAgICB7fQogICAgICAgICAgICApLmFkZFRvKG1hcF80OTI3ZDdkNjcxY2U0MmM1YTkyMWI0YjgwY2VjNDNmNyk7CiAgICAgICAgCiAgICAKICAgICAgICAgICAgdmFyIGljb25fODZkZGVlZjg0NDI0NDE3NGJkMzg3NTdkZjM3MDE0ZDcgPSBMLkF3ZXNvbWVNYXJrZXJzLmljb24oCiAgICAgICAgICAgICAgICB7ImV4dHJhQ2xhc3NlcyI6ICJmYS1yb3RhdGUtMCIsICJpY29uIjogImZhLXVzZXIiLCAiaWNvbkNvbG9yIjogIndoaXRlIiwgIm1hcmtlckNvbG9yIjogIm9yYW5nZSIsICJwcmVmaXgiOiAiZmEifQogICAgICAgICAgICApOwogICAgICAgICAgICBtYXJrZXJfMDZiOWY2Y2Q4NTViNGJiZGEwNTlhOTAxNDAyMGFkYjguc2V0SWNvbihpY29uXzg2ZGRlZWY4NDQyNDQxNzRiZDM4NzU3ZGYzNzAxNGQ3KTsKICAgICAgICAKICAgIAogICAgICAgIHZhciBwb3B1cF84YzJjYjNlMDRhYmE0NzNhOWFiM2YwMGNlZGJiN2EzOSA9IEwucG9wdXAoeyJtYXhXaWR0aCI6ICIxMDAlIn0pOwoKICAgICAgICAKICAgICAgICAgICAgdmFyIGh0bWxfNmFmZjJkYThhYTE4NDg0YzhhOTA3ODNjOGQyOWMyMzYgPSAkKGA8ZGl2IGlkPSJodG1sXzZhZmYyZGE4YWExODQ4NGM4YTkwNzgzYzhkMjljMjM2IiBzdHlsZT0id2lkdGg6IDEwMC4wJTsgaGVpZ2h0OiAxMDAuMCU7Ij5IYXJkPC9kaXY+YClbMF07CiAgICAgICAgICAgIHBvcHVwXzhjMmNiM2UwNGFiYTQ3M2E5YWIzZjAwY2VkYmI3YTM5LnNldENvbnRlbnQoaHRtbF82YWZmMmRhOGFhMTg0ODRjOGE5MDc4M2M4ZDI5YzIzNik7CiAgICAgICAgCgogICAgICAgIG1hcmtlcl8wNmI5ZjZjZDg1NWI0YmJkYTA1OWE5MDE0MDIwYWRiOC5iaW5kUG9wdXAocG9wdXBfOGMyY2IzZTA0YWJhNDczYTlhYjNmMDBjZWRiYjdhMzkpCiAgICAgICAgOwoKICAgICAgICAKICAgIAogICAgCiAgICAgICAgICAgIHZhciBtYXJrZXJfNDRlY2ZkOGJjYmYwNGNjZjk1ZTNlZDE1YWJhY2Y5MTMgPSBMLm1hcmtlcigKICAgICAgICAgICAgICAgIFs1Mi40NTc3MzksIDEzLjMxMDU5MV0sCiAgICAgICAgICAgICAgICB7fQogICAgICAgICAgICApLmFkZFRvKG1hcF80OTI3ZDdkNjcxY2U0MmM1YTkyMWI0YjgwY2VjNDNmNyk7CiAgICAgICAgCiAgICAKICAgICAgICAgICAgdmFyIGljb25fNWUyYmUxZmU4NjcxNDIwMTkwMGIxNDcyMDg2MjhkZDEgPSBMLkF3ZXNvbWVNYXJrZXJzLmljb24oCiAgICAgICAgICAgICAgICB7ImV4dHJhQ2xhc3NlcyI6ICJmYS1yb3RhdGUtMCIsICJpY29uIjogImZhLXVuaXZlcnNpdHkiLCAiaWNvbkNvbG9yIjogIndoaXRlIiwgIm1hcmtlckNvbG9yIjogImxpZ2h0Z3JlZW4iLCAicHJlZml4IjogImZhIn0KICAgICAgICAgICAgKTsKICAgICAgICAgICAgbWFya2VyXzQ0ZWNmZDhiY2JmMDRjY2Y5NWUzZWQxNWFiYWNmOTEzLnNldEljb24oaWNvbl81ZTJiZTFmZTg2NzE0MjAxOTAwYjE0NzIwODYyOGRkMSk7CiAgICAgICAgCiAgICAKICAgICAgICB2YXIgcG9wdXBfZjYxMjEyYTBmODY5NDMzOWJlOWU3YTg0MGQxMTNhOWIgPSBMLnBvcHVwKHsibWF4V2lkdGgiOiAiMTAwJSJ9KTsKCiAgICAgICAgCiAgICAgICAgICAgIHZhciBodG1sXzlhMzAyYTZiOGI5NjQ0NWQ5YTcwZTUyYzdhNWZhZDdjID0gJChgPGRpdiBpZD0iaHRtbF85YTMwMmE2YjhiOTY0NDVkOWE3MGU1MmM3YTVmYWQ3YyIgc3R5bGU9IndpZHRoOiAxMDAuMCU7IGhlaWdodDogMTAwLjAlOyI+RlUgQmVybGluPC9kaXY+YClbMF07CiAgICAgICAgICAgIHBvcHVwX2Y2MTIxMmEwZjg2OTQzMzliZTllN2E4NDBkMTEzYTliLnNldENvbnRlbnQoaHRtbF85YTMwMmE2YjhiOTY0NDVkOWE3MGU1MmM3YTVmYWQ3Yyk7CiAgICAgICAgCgogICAgICAgIG1hcmtlcl80NGVjZmQ4YmNiZjA0Y2NmOTVlM2VkMTVhYmFjZjkxMy5iaW5kUG9wdXAocG9wdXBfZjYxMjEyYTBmODY5NDMzOWJlOWU3YTg0MGQxMTNhOWIpCiAgICAgICAgOwoKICAgICAgICAKICAgIAogICAgCiAgICAgICAgICAgIHZhciBtYXJrZXJfOTlhZDc3ZjU1ZTA3NGMwNWJkODViNGJjNTM5OWMwNzkgPSBMLm1hcmtlcigKICAgICAgICAgICAgICAgIFstMzcuOTA5MTk5LCAxNDcuMTMxMTAzXSwKICAgICAgICAgICAgICAgIHt9CiAgICAgICAgICAgICkuYWRkVG8obWFwXzQ5MjdkN2Q2NzFjZTQyYzVhOTIxYjRiODBjZWM0M2Y3KTsKICAgICAgICAKICAgIAogICAgICAgICAgICB2YXIgaWNvbl9mODY5NDVmMjMxZDE0ZTc4ODJjZGViMmJjYzdiNmJlYyA9IEwuQXdlc29tZU1hcmtlcnMuaWNvbigKICAgICAgICAgICAgICAgIHsiZXh0cmFDbGFzc2VzIjogImZhLXJvdGF0ZS0wIiwgImljb24iOiAiZmEtdW5pdmVyc2l0eSIsICJpY29uQ29sb3IiOiAid2hpdGUiLCAibWFya2VyQ29sb3IiOiAiYmx1ZSIsICJwcmVmaXgiOiAiZmEifQogICAgICAgICAgICApOwogICAgICAgICAgICBtYXJrZXJfOTlhZDc3ZjU1ZTA3NGMwNWJkODViNGJjNTM5OWMwNzkuc2V0SWNvbihpY29uX2Y4Njk0NWYyMzFkMTRlNzg4MmNkZWIyYmNjN2I2YmVjKTsKICAgICAgICAKICAgIAogICAgICAgIHZhciBwb3B1cF82OTZiZmIyMWEyMDM0Yzc2YTZmY2ExMWFkN2FkYjI4YSA9IEwucG9wdXAoeyJtYXhXaWR0aCI6ICIxMDAlIn0pOwoKICAgICAgICAKICAgICAgICAgICAgdmFyIGh0bWxfZmVlNGQ0ZTdjZGI4NDdiMmI3MjE4YjBlYTU1MWZjNGEgPSAkKGA8ZGl2IGlkPSJodG1sX2ZlZTRkNGU3Y2RiODQ3YjJiNzIxOGIwZWE1NTFmYzRhIiBzdHlsZT0id2lkdGg6IDEwMC4wJTsgaGVpZ2h0OiAxMDAuMCU7Ij5Nb25hc2ggVW5pPC9kaXY+YClbMF07CiAgICAgICAgICAgIHBvcHVwXzY5NmJmYjIxYTIwMzRjNzZhNmZjYTExYWQ3YWRiMjhhLnNldENvbnRlbnQoaHRtbF9mZWU0ZDRlN2NkYjg0N2IyYjcyMThiMGVhNTUxZmM0YSk7CiAgICAgICAgCgogICAgICAgIG1hcmtlcl85OWFkNzdmNTVlMDc0YzA1YmQ4NWI0YmM1Mzk5YzA3OS5iaW5kUG9wdXAocG9wdXBfNjk2YmZiMjFhMjAzNGM3NmE2ZmNhMTFhZDdhZGIyOGEpCiAgICAgICAgOwoKICAgICAgICAKICAgIAogICAgCiAgICAgICAgICAgIHZhciBtYXJrZXJfNzI5ZDkxMzRkYjJhNDA5NWE3OWZkMGExMGJjNTkzMTQgPSBMLm1hcmtlcigKICAgICAgICAgICAgICAgIFs0OC40NjQ4MjIsIC0xMjMuMzE0MTldLAogICAgICAgICAgICAgICAge30KICAgICAgICAgICAgKS5hZGRUbyhtYXBfNDkyN2Q3ZDY3MWNlNDJjNWE5MjFiNGI4MGNlYzQzZjcpOwogICAgICAgIAogICAgCiAgICAgICAgICAgIHZhciBpY29uXzE3YjQ5MjYzZGNiZjQ3ZDc4OTkwMzA1ODFlODhiNzczID0gTC5Bd2Vzb21lTWFya2Vycy5pY29uKAogICAgICAgICAgICAgICAgeyJleHRyYUNsYXNzZXMiOiAiZmEtcm90YXRlLTAiLCAiaWNvbiI6ICJoYW5kLW8tdXAiLCAiaWNvbkNvbG9yIjogIndoaXRlIiwgIm1hcmtlckNvbG9yIjogIm9yYW5nZSIsICJwcmVmaXgiOiAiZmEifQogICAgICAgICAgICApOwogICAgICAgICAgICBtYXJrZXJfNzI5ZDkxMzRkYjJhNDA5NWE3OWZkMGExMGJjNTkzMTQuc2V0SWNvbihpY29uXzE3YjQ5MjYzZGNiZjQ3ZDc4OTkwMzA1ODFlODhiNzczKTsKICAgICAgICAKICAgIAogICAgICAgIHZhciBwb3B1cF80ODY4YTgwOGEyNzQ0MDkwOTMxODE0ODg4MzlhOWY0YiA9IEwucG9wdXAoeyJtYXhXaWR0aCI6ICIxMDAlIn0pOwoKICAgICAgICAKICAgICAgICAgICAgdmFyIGh0bWxfNWI1OTNlYTI1MTQ5NDY5NGI5ODIxNTYxZDEyODZjOTYgPSAkKGA8ZGl2IGlkPSJodG1sXzViNTkzZWEyNTE0OTQ2OTRiOTgyMTU2MWQxMjg2Yzk2IiBzdHlsZT0id2lkdGg6IDEwMC4wJTsgaGVpZ2h0OiAxMDAuMCU7Ij5Vbmkgb2YgVmljdG9yaWE8L2Rpdj5gKVswXTsKICAgICAgICAgICAgcG9wdXBfNDg2OGE4MDhhMjc0NDA5MDkzMTgxNDg4ODM5YTlmNGIuc2V0Q29udGVudChodG1sXzViNTkzZWEyNTE0OTQ2OTRiOTgyMTU2MWQxMjg2Yzk2KTsKICAgICAgICAKCiAgICAgICAgbWFya2VyXzcyOWQ5MTM0ZGIyYTQwOTVhNzlmZDBhMTBiYzU5MzE0LmJpbmRQb3B1cChwb3B1cF80ODY4YTgwOGEyNzQ0MDkwOTMxODE0ODg4MzlhOWY0YikKICAgICAgICA7CgogICAgICAgIAogICAgCiAgICAKICAgICAgICAgICAgdmFyIG1hcmtlcl9mMWU1ZmFlNjE0N2I0MDlmOTYwZjg0NGRmMDFlYTY5MSA9IEwubWFya2VyKAogICAgICAgICAgICAgICAgWzUwLjcyNzIwOCwgLTMuNDc0NjE5XSwKICAgICAgICAgICAgICAgIHt9CiAgICAgICAgICAgICkuYWRkVG8obWFwXzQ5MjdkN2Q2NzFjZTQyYzVhOTIxYjRiODBjZWM0M2Y3KTsKICAgICAgICAKICAgIAogICAgICAgICAgICB2YXIgaWNvbl9mMmNlMWJiYWQyODY0Mzc2OTc3MjQ1M2MwYjgzNzFiMyA9IEwuQXdlc29tZU1hcmtlcnMuaWNvbigKICAgICAgICAgICAgICAgIHsiZXh0cmFDbGFzc2VzIjogImZhLXJvdGF0ZS0wIiwgImljb24iOiAiaGFuZC1vLXVwIiwgImljb25Db2xvciI6ICJ3aGl0ZSIsICJtYXJrZXJDb2xvciI6ICJibGFjayIsICJwcmVmaXgiOiAiZmEifQogICAgICAgICAgICApOwogICAgICAgICAgICBtYXJrZXJfZjFlNWZhZTYxNDdiNDA5Zjk2MGY4NDRkZjAxZWE2OTEuc2V0SWNvbihpY29uX2YyY2UxYmJhZDI4NjQzNzY5NzcyNDUzYzBiODM3MWIzKTsKICAgICAgICAKICAgIAogICAgICAgIHZhciBwb3B1cF9jNmE5OWI3OWMyNDU0NjQ1YTUyNzk0NjRjYWUzMzljYiA9IEwucG9wdXAoeyJtYXhXaWR0aCI6ICIxMDAlIn0pOwoKICAgICAgICAKICAgICAgICAgICAgdmFyIGh0bWxfZjQ3MDM0MzY2MzNkNDRmMDk4YTAzZDAxZTk3MjM1MDEgPSAkKGA8ZGl2IGlkPSJodG1sX2Y0NzAzNDM2NjMzZDQ0ZjA5OGEwM2QwMWU5NzIzNTAxIiBzdHlsZT0id2lkdGg6IDEwMC4wJTsgaGVpZ2h0OiAxMDAuMCU7Ij5VSyBNZXQgT2ZmaWNlPC9kaXY+YClbMF07CiAgICAgICAgICAgIHBvcHVwX2M2YTk5Yjc5YzI0NTQ2NDVhNTI3OTQ2NGNhZTMzOWNiLnNldENvbnRlbnQoaHRtbF9mNDcwMzQzNjYzM2Q0NGYwOThhMDNkMDFlOTcyMzUwMSk7CiAgICAgICAgCgogICAgICAgIG1hcmtlcl9mMWU1ZmFlNjE0N2I0MDlmOTYwZjg0NGRmMDFlYTY5MS5iaW5kUG9wdXAocG9wdXBfYzZhOTliNzljMjQ1NDY0NWE1Mjc5NDY0Y2FlMzM5Y2IpCiAgICAgICAgOwoKICAgICAgICAKICAgIAogICAgCiAgICAgICAgICAgIHZhciBtYXJrZXJfMTQxZWE0ZjFiNzVlNGU0Y2I3ZWQwZjQ1ZmE0ODI4MjEgPSBMLm1hcmtlcigKICAgICAgICAgICAgICAgIFstMzcuNzk3MTkxLCAxNDIuOTY1MDIzXSwKICAgICAgICAgICAgICAgIHt9CiAgICAgICAgICAgICkuYWRkVG8obWFwXzQ5MjdkN2Q2NzFjZTQyYzVhOTIxYjRiODBjZWM0M2Y3KTsKICAgICAgICAKICAgIAogICAgICAgICAgICB2YXIgaWNvbl8zOWUyM2Y2ZWNjYTY0YWFjOWJkN2FlMGUyNGRmNDQwNCA9IEwuQXdlc29tZU1hcmtlcnMuaWNvbigKICAgICAgICAgICAgICAgIHsiZXh0cmFDbGFzc2VzIjogImZhLXJvdGF0ZS0wIiwgImljb24iOiAiZmEtdW5pdmVyc2l0eSIsICJpY29uQ29sb3IiOiAid2hpdGUiLCAibWFya2VyQ29sb3IiOiAiYnJvd24iLCAicHJlZml4IjogImZhIn0KICAgICAgICAgICAgKTsKICAgICAgICAgICAgbWFya2VyXzE0MWVhNGYxYjc1ZTRlNGNiN2VkMGY0NWZhNDgyODIxLnNldEljb24oaWNvbl8zOWUyM2Y2ZWNjYTY0YWFjOWJkN2FlMGUyNGRmNDQwNCk7CiAgICAgICAgCiAgICAKICAgICAgICB2YXIgcG9wdXBfODFhZDc3ZWJjNGVjNDZiMWI4ZjVhODkxZGQ5OTU0MmEgPSBMLnBvcHVwKHsibWF4V2lkdGgiOiAiMTAwJSJ9KTsKCiAgICAgICAgCiAgICAgICAgICAgIHZhciBodG1sX2Y4OTBjNzZmN2U1NzRmOTNhMDgyOGU2NmNkOGJjZjZlID0gJChgPGRpdiBpZD0iaHRtbF9mODkwYzc2ZjdlNTc0ZjkzYTA4MjhlNjZjZDhiY2Y2ZSIgc3R5bGU9IndpZHRoOiAxMDAuMCU7IGhlaWdodDogMTAwLjAlOyI+VW5pIG9mIE1lbGJvdXJuZTwvZGl2PmApWzBdOwogICAgICAgICAgICBwb3B1cF84MWFkNzdlYmM0ZWM0NmIxYjhmNWE4OTFkZDk5NTQyYS5zZXRDb250ZW50KGh0bWxfZjg5MGM3NmY3ZTU3NGY5M2EwODI4ZTY2Y2Q4YmNmNmUpOwogICAgICAgIAoKICAgICAgICBtYXJrZXJfMTQxZWE0ZjFiNzVlNGU0Y2I3ZWQwZjQ1ZmE0ODI4MjEuYmluZFBvcHVwKHBvcHVwXzgxYWQ3N2ViYzRlYzQ2YjFiOGY1YTg5MWRkOTk1NDJhKQogICAgICAgIDsKCiAgICAgICAgCiAgICAKICAgIAogICAgICAgICAgICB2YXIgbWFya2VyXzExMmMyMGJlOTdkZjQ1ZDRhYmFiZDNhMmU0MDg5ZGQ3ID0gTC5tYXJrZXIoCiAgICAgICAgICAgICAgICBbNTMuNTg4NTk5LCA5LjgyOTIzNF0sCiAgICAgICAgICAgICAgICB7fQogICAgICAgICAgICApLmFkZFRvKG1hcF80OTI3ZDdkNjcxY2U0MmM1YTkyMWI0YjgwY2VjNDNmNyk7CiAgICAgICAgCiAgICAKICAgICAgICAgICAgdmFyIGljb25fNjlmOWExNmFkZDg4NGExYThmZWMyMDBmMGQ5NTE2ZjAgPSBMLkF3ZXNvbWVNYXJrZXJzLmljb24oCiAgICAgICAgICAgICAgICB7ImV4dHJhQ2xhc3NlcyI6ICJmYS1yb3RhdGUtMCIsICJpY29uIjogImRhdGFiYXNlIiwgImljb25Db2xvciI6ICJ3aGl0ZSIsICJtYXJrZXJDb2xvciI6ICJicm93biIsICJwcmVmaXgiOiAiZmEifQogICAgICAgICAgICApOwogICAgICAgICAgICBtYXJrZXJfMTEyYzIwYmU5N2RmNDVkNGFiYWJkM2EyZTQwODlkZDcuc2V0SWNvbihpY29uXzY5ZjlhMTZhZGQ4ODRhMWE4ZmVjMjAwZjBkOTUxNmYwKTsKICAgICAgICAKICAgIAogICAgICAgIHZhciBwb3B1cF8yZTEzMzFiOWRkM2Y0OWU1OGZiMDJjMTU5NmU1ZTQ5OCA9IEwucG9wdXAoeyJtYXhXaWR0aCI6ICIxMDAlIn0pOwoKICAgICAgICAKICAgICAgICAgICAgdmFyIGh0bWxfNmYwMjFlMTU3MTljNGIzYWFiZDRhNGFkNzMyMTgxMDAgPSAkKGA8ZGl2IGlkPSJodG1sXzZmMDIxZTE1NzE5YzRiM2FhYmQ0YTRhZDczMjE4MTAwIiBzdHlsZT0id2lkdGg6IDEwMC4wJTsgaGVpZ2h0OiAxMDAuMCU7Ij5FdSBYRkVMPC9kaXY+YClbMF07CiAgICAgICAgICAgIHBvcHVwXzJlMTMzMWI5ZGQzZjQ5ZTU4ZmIwMmMxNTk2ZTVlNDk4LnNldENvbnRlbnQoaHRtbF82ZjAyMWUxNTcxOWM0YjNhYWJkNGE0YWQ3MzIxODEwMCk7CiAgICAgICAgCgogICAgICAgIG1hcmtlcl8xMTJjMjBiZTk3ZGY0NWQ0YWJhYmQzYTJlNDA4OWRkNy5iaW5kUG9wdXAocG9wdXBfMmUxMzMxYjlkZDNmNDllNThmYjAyYzE1OTZlNWU0OTgpCiAgICAgICAgOwoKICAgICAgICAKICAgIAogICAgCiAgICAgICAgICAgIHZhciBtYXJrZXJfMTFkNmQ4MGZhNmI3NGFiOWE2YjRmMTg0MWRjMWI3OWEgPSBMLm1hcmtlcigKICAgICAgICAgICAgICAgIFs1My40ODg1OTksIDkuOTM5MjM0XSwKICAgICAgICAgICAgICAgIHt9CiAgICAgICAgICAgICkuYWRkVG8obWFwXzQ5MjdkN2Q2NzFjZTQyYzVhOTIxYjRiODBjZWM0M2Y3KTsKICAgICAgICAKICAgIAogICAgICAgICAgICB2YXIgaWNvbl9iNGUxY2YzMzNiYmU0OTc2YmU3YWEwNTNiZGUxYmI2MyA9IEwuQXdlc29tZU1hcmtlcnMuaWNvbigKICAgICAgICAgICAgICAgIHsiZXh0cmFDbGFzc2VzIjogImZhLXJvdGF0ZS0wIiwgImljb24iOiAiZGlhbW9uZCIsICJpY29uQ29sb3IiOiAid2hpdGUiLCAibWFya2VyQ29sb3IiOiAiZGFya2dyZWVuIiwgInByZWZpeCI6ICJmYSJ9CiAgICAgICAgICAgICk7CiAgICAgICAgICAgIG1hcmtlcl8xMWQ2ZDgwZmE2Yjc0YWI5YTZiNGYxODQxZGMxYjc5YS5zZXRJY29uKGljb25fYjRlMWNmMzMzYmJlNDk3NmJlN2FhMDUzYmRlMWJiNjMpOwogICAgICAgIAogICAgCiAgICAgICAgdmFyIHBvcHVwXzZhNmIzM2YxODg2NzQzYjQ5OWJiYzVkOTRmMjJkZGE5ID0gTC5wb3B1cCh7Im1heFdpZHRoIjogIjEwMCUifSk7CgogICAgICAgIAogICAgICAgICAgICB2YXIgaHRtbF8xNTU5NDNhMmUzMmY0MGE1YjJlODQyYjllNmY1MzgyOCA9ICQoYDxkaXYgaWQ9Imh0bWxfMTU1OTQzYTJlMzJmNDBhNWIyZTg0MmI5ZTZmNTM4MjgiIHN0eWxlPSJ3aWR0aDogMTAwLjAlOyBoZWlnaHQ6IDEwMC4wJTsiPk1QSTwvZGl2PmApWzBdOwogICAgICAgICAgICBwb3B1cF82YTZiMzNmMTg4Njc0M2I0OTliYmM1ZDk0ZjIyZGRhOS5zZXRDb250ZW50KGh0bWxfMTU1OTQzYTJlMzJmNDBhNWIyZTg0MmI5ZTZmNTM4MjgpOwogICAgICAgIAoKICAgICAgICBtYXJrZXJfMTFkNmQ4MGZhNmI3NGFiOWE2YjRmMTg0MWRjMWI3OWEuYmluZFBvcHVwKHBvcHVwXzZhNmIzM2YxODg2NzQzYjQ5OWJiYzVkOTRmMjJkZGE5KQogICAgICAgIDsKCiAgICAgICAgCiAgICAKPC9zY3JpcHQ+ onload=\"this.contentDocument.open();this.contentDocument.write(atob(this.getAttribute('data-html')));this.contentDocument.close();\" allowfullscreen webkitallowfullscreen mozallowfullscreen></iframe></div></div>"
      ],
      "text/plain": [
       "<folium.folium.Map at 0x7f4d9227c5f8>"
      ]
     },
     "metadata": {},
     "output_type": "display_data"
    }
   ],
   "source": [
    "locations=(\n",
    "    (52.945530, 12.389213, 'Kyritz', folium.Icon(color='lightblue', prefix='fa', icon='fa-universal-access')),\n",
    "    (49.941938, 12.083177, 'Hard', folium.Icon(color='orange', prefix='fa', icon='fa-user')),\n",
    "    (52.457739, 13.310591, 'FU Berlin', folium.Icon(color='lightgreen', prefix='fa', icon='fa-university')),\n",
    "    (-37.909199, 147.131103, 'Monash Uni',  folium.Icon(color='blue',  prefix='fa', icon='fa-university')),\n",
    "    (48.464822, -123.314190, 'Uni of Victoria',  folium.Icon(color='orange', prefix='fa', icon='hand-o-up')),\n",
    "    (50.727208, -3.474619, 'UK Met Office',  folium.Icon(color='black', prefix='fa', icon='hand-o-up')),\n",
    "    (-37.797191, 142.965023, 'Uni of Melbourne', folium.Icon(color='brown', prefix='fa', icon='fa-university')),\n",
    "    (53.588599, 9.829234, 'Eu XFEL', folium.Icon(color='brown', prefix='fa', icon='database')),\n",
    "    (53.488599, 9.939234, 'MPI', folium.Icon(color='darkgreen', prefix='fa', icon='diamond')))\n",
    "m = folium.Map(location=(48,20), zoom_start=4.9)\n",
    "for nn, loc in enumerate(locations):\n",
    "    folium.Marker(loc[0:2], popup=loc[2], tooltip=None, icon=loc[-1]).add_to(m)\n",
    "    \n",
    "display(m)\n",
    "#folium.Icon?"
   ]
  },
  {
   "cell_type": "markdown",
   "metadata": {
    "slideshow": {
     "slide_type": "slide"
    }
   },
   "source": [
    "<figure>\n",
    "<center><img src='TitlePage2.png' style='width:750px;'></center>\n",
    "<figcaption style=\"text-align: right\"></figcaption></figure>"
   ]
  },
  {
   "cell_type": "markdown",
   "metadata": {
    "slideshow": {
     "slide_type": "slide"
    }
   },
   "source": [
    "<figure>\n",
    "<center><img src='LaserTunnel.png' style='width:750px;'></center>\n",
    "<figcaption style=\"text-align: right\"></figcaption></figure>"
   ]
  },
  {
   "cell_type": "markdown",
   "metadata": {
    "slideshow": {
     "slide_type": "subslide"
    }
   },
   "source": [
    "<figure>\n",
    "<center><img src='LaserTunnel2.png' style='width:750px;'></center>\n",
    "<figcaption style=\"text-align: right\"></figcaption></figure>"
   ]
  },
  {
   "cell_type": "markdown",
   "metadata": {
    "slideshow": {
     "slide_type": "subslide"
    }
   },
   "source": [
    "<h1>There are 6 \"Instruments\" receiving the laser beam:<br><br></h1>\n",
    "\n",
    "<figure>\n",
    "<center><img src='SPB.jpg' style='width:750px;'></center>\n",
    "    <figcaption style=\"text-align: center\">Single Particle Biology Instrument (SPB)</figcaption></figure>"
   ]
  },
  {
   "cell_type": "markdown",
   "metadata": {
    "slideshow": {
     "slide_type": "subslide"
    }
   },
   "source": [
    "<h1>One common scientific theme is:<br><br></h1>\n",
    "<figure>\n",
    "<center><img src='AimShoot.png' style='height:450px;'></center>\n",
    "<figcaption style=\"text-align: right\"></figcaption></figure>"
   ]
  },
  {
   "cell_type": "markdown",
   "metadata": {
    "slideshow": {
     "slide_type": "subslide"
    }
   },
   "source": [
    "<h2>What was I doing there?<br><br></h2>\n",
    "<figure>\n",
    "<center><img src='SCS.jpg' style='height:200px;'></center>\n",
    "    <figcaption style=\"text-align: left\"><br>Part of the Control and Analysis Software Engineering Team (CAS) that:</figcaption>\n",
    " <ul style=\"float: center;\">\n",
    "     <li>Develop the distributed control system, also for real time data analysis</li>\n",
    "     <li>Consult external research group on software deployment strategies and software development</li>"
   ]
  },
  {
   "cell_type": "markdown",
   "metadata": {
    "slideshow": {
     "slide_type": "slide"
    }
   },
   "source": [
    "<h2>Adaptive Gain Adaptive Gain Integrating Pixel Detector (AGIPD)<br><br></h2>\n",
    "<div style=\"clear: left;\">\n",
    "    <p style=\"float: left;\"><img src=\"AGIPD.jpeg\" height=\"200\" width=\"200\" border=\"50px\"></p>\n",
    "    <ul style=\"float: right;\">\n",
    "    <li>Multiple Panels Detecting Signals Independently</li>\n",
    "    <li>Hole - Variable Geometry</li>\n",
    "    <li>Records at 500 MHz = 2.6 GB/s</li>\n",
    " </ul>\n",
    "</div>"
   ]
  },
  {
   "cell_type": "markdown",
   "metadata": {
    "slideshow": {
     "slide_type": "slide"
    }
   },
   "source": [
    "<h3>Many different data sources are orchestrated by the control system<br><br></h3>\n",
    "<figure>\n",
    "<center><img src='Data_structure_1.png' style='width:750px;'></center>\n",
    "    <figcaption style=\"text-align: right\"></figcaption></figure>"
   ]
  },
  {
   "cell_type": "markdown",
   "metadata": {
    "slideshow": {
     "slide_type": "subslide"
    }
   },
   "source": [
    "<figure>\n",
    "<center><img src='Overview.png' style='width:750px;'></center>\n",
    "    <figcaption style=\"text-align: right\"></figcaption></figure>"
   ]
  },
  {
   "cell_type": "markdown",
   "metadata": {
    "slideshow": {
     "slide_type": "slide"
    }
   },
   "source": [
    "## What about Data Management?\n",
    "* During the Experiment:\n",
    "    * Rapid feedback by the live scenes and user tools coming from the bridge.\n",
    "    * Data (run) can be (temporarily) recorded on a cluster at EuXFEL\n",
    "* After Experiment:\n",
    "    * After each run, scientist decides on quality of the data: *good*, *unclear*, *not interesting*\n",
    "    * *Good* or *unclear* data get migrated to the cluster at Desy\n",
    "* Analyse files on Maxwell cluster (Desy):\n",
    "  * During and after the experiment\n",
    "  * 180 nodes with 40 cores and ~512GB each"
   ]
  },
  {
   "cell_type": "markdown",
   "metadata": {
    "slideshow": {
     "slide_type": "slide"
    }
   },
   "source": [
    "# File base analysis:\n",
    "* **Problem**: Data from bid detectors or cameras is recorded separately many different files:\n",
    "\n",
    "```bash\n",
    "\n",
    "bergem@max-exfl014 in ~ %-                                        \n",
    "ls –lh /gpfs/exfel/exp/SPB/201701/p002012/raw/r0359                                                                                                                                                                \n",
    "total 92G                                                                                                                                                                                                          \n",
    "-rw-r--r-- 1 xdata xdata 6.1G Jul 6 11:03 RAW-R0359-AGIPD00-S00000.h5                                                  \n",
    "-rw-r--r-- 1 xdata xdata 6.1G Jul 6 11:03 RAW-R0359-AGIPD01-S00000.h5                                                  \n",
    "-rw-r--r-- 1 xdata xdata 6.1G Jul 6 11:03 RAW-R0359-AGIPD02-S00000.h5                                                  \n",
    "-rw-r--r-- 1 xdata xdata 241K Jul 6 11:03 RAW-R0359-AGIPD03-S00000.h5                                                   \n",
    "-rw-r--r-- 1 xdata xdata 6.1G Jul 6 11:03 RAW-R0359-AGIPD04-S00000.h5                                                  \n",
    "-rw-r--r-- 1 xdata xdata 6.1G Jul 6 11:03 RAW-R0359-AGIPD05-S00000.h5                                                  \n",
    "-rw-r--r-- 1 xdata xdata 6.1G Jul 6 11:03 RAW-R0359-AGIPD06-S00000.h5                                                  \n",
    "-rw-r--r-- 1 xdata xdata 6.1G Jul 6 11:03 RAW-R0359-AGIPD07-S00000.h5                                                  \n",
    "-rw-r--r-- 1 xdata xdata 6.1G Jul 6 11:03 RAW-R0359-AGIPD08-S00000.h5                                                  \n",
    "-rw-r--r-- 1 xdata xdata 6.1G Jul 6 11:03 RAW-R0359-AGIPD09-S00000.h5                                                  \n",
    "-rw-r--r-- 1 xdata xdata 6.1G Jul 6 11:03 RAW-R0359-AGIPD10-S00000.h5                                                  \n",
    "-rw-r--r-- 1 xdata xdata 6.1G Jul 6 11:03 RAW-R0359-AGIPD11-S00000.h5                                                  \n",
    "-rw-r--r-- 1 xdata xdata 6.1G Jul 6 11:03 RAW-R0359-AGIPD12-S00000.h5                                                  \n",
    "-rw-r--r-- 1 xdata xdata 6.1G Jul 6 11:03 RAW-R0359-AGIPD13-S00000.h5                                                  \n",
    "-rw-r--r-- 1 xdata xdata 6.1G Jul 6 11:03 RAW-R0359-AGIPD14-S00000.h5                                                  \n",
    "-rw-r--r-- 1 xdata xdata 6.1G Jul 6 11:03 RAW-R0359-AGIPD15-S00000.h5                                                  \n",
    "-rw-r--r-- 1 xdata xdata 788M Jul 6 11:03 RAW-R0359-DA01-S00000.h5                                                     \n",
    "-rw-r--r-- 1 xdata xdata 38M Jul 6 11:03 RAW-R0359-DA02-S00000.h5\n",
    "\n",
    "```"
   ]
  },
  {
   "cell_type": "markdown",
   "metadata": {
    "slideshow": {
     "slide_type": "slide"
    }
   },
   "source": [
    "<figure>\n",
    "<center><img src='ExtraData.png' style='width:750px;'></center>\n",
    "    <figcaption style=\"text-align: right\"></figcaption></figure>"
   ]
  },
  {
   "cell_type": "markdown",
   "metadata": {
    "slideshow": {
     "slide_type": "slide"
    }
   },
   "source": [
    "```python\n",
    "import extra_data as xd\n",
    "run_folder = '/gpfs/exfel/exp/XMPL/201750/p700000/raw/r0273'\n",
    "run_dir = xd.RunDirectory(run_folder)\n",
    "run_dir.info()\n",
    "```\n",
    "\n",
    "```bash\n",
    "# of trains:    156\n",
    "Duration:       0:00:15.500000\n",
    "First train ID: 198425241\n",
    "Last train ID:  198425396\n",
    "\n",
    "16 detector modules (SPB_DET_AGIPD1M-1)\n",
    "  e.g. module SPB_DET_AGIPD1M-1 0 : 512 x 128 pixels\n",
    "  176 frames per train, 27456 total frames\n",
    "\n",
    "2 instrument sources (excluding detectors):\n",
    "  - SA1_XTD2_XGM/XGM/DOOCS:output\n",
    "  - SPB_XTD9_XGM/XGM/DOOCS:output\n",
    "\n",
    "13 control sources:\n",
    "  - ACC_SYS_DOOCS/CTRL/BEAMCONDITIONS\n",
    "  - SA1_XTD2_XGM/XGM/DOOCS\n",
    "  - SPB_IRU_AGIPD1M/PSC/HV\n",
    "  - SPB_IRU_AGIPD1M/TSENS/H1_T_EXTHOUS\n",
    "  - SPB_IRU_AGIPD1M/TSENS/H2_T_EXTHOUS\n",
    "  - SPB_IRU_AGIPD1M/TSENS/Q1_T_BLOCK\n",
    "  - SPB_IRU_AGIPD1M/TSENS/Q2_T_BLOCK\n",
    "  - SPB_IRU_AGIPD1M/TSENS/Q3_T_BLOCK\n",
    "  - SPB_IRU_AGIPD1M/TSENS/Q4_T_BLOCK\n",
    "  - SPB_IRU_AGIPD1M1/CTRL/MC1\n",
    "  - SPB_IRU_AGIPD1M1/CTRL/MC2\n",
    "  - SPB_IRU_VAC/GAUGE/GAUGE_FR_6\n",
    "  - SPB_XTD9_XGM/XGM/DOOCS\n",
    "```"
   ]
  },
  {
   "cell_type": "markdown",
   "metadata": {
    "slideshow": {
     "slide_type": "subslide"
    }
   },
   "source": [
    "## Software Deployment and Documentation\n",
    "Central IT infrastructure maintained and organized by Desy-IT:\n",
    "* Deployed central Xfel **anconda** distribution:\n",
    "    * Once a new proposal (/work Project) gets created a certain software stack (*mini-conda*) is deployed\n",
    "    * User can ask for proposal specific software stack, usually before beamtime.\n",
    "* Release and update circle independent from Desy IT\n",
    "    * Proposal based jupyter-kernel gets auto installed via modules and use the kernel in jupyter-hub instance from Desy-IT\n",
    "* Jupyter Notebook as basis for user documentation\n",
    "    * All software projects using sphinx for auto-building documentation\n",
    "    * GitLab CIs to constantly test notebooks and keep documentation up to date."
   ]
  },
  {
   "cell_type": "markdown",
   "metadata": {
    "slideshow": {
     "slide_type": "subslide"
    }
   },
   "source": [
    "## Non-Python based software and Reproducibility\n",
    "* Containerizing scientific software via `singularity`:\n",
    "    * Singularity because of better integration in HPC systems (than Docker)\n",
    "* Containers are also made a part of the proposal software stack\n",
    "* Effort to design and define fully automated FaaS pipelines via slurm, kubernetes - *warppipes*. "
   ]
  },
  {
   "cell_type": "markdown",
   "metadata": {
    "slideshow": {
     "slide_type": "slide"
    }
   },
   "source": [
    "<h2>Whats it lit to work at a place like EuXfel<br></h2>\n",
    "<div style=\"clear: left;\">\n",
    "    <p style=\"float: left;\"><img src=\"Valve.jpeg\" height=\"200\" width=\"200\" border=\"50px\"></p>\n",
    "    <ul style=\"float: right;\">\n",
    "    <li>Plenty of <em>home-made</em> things: Machines, Software etc</li>\n",
    "    <li>Lots of requirements: from Instrument groups</li>\n",
    "    <li>On Call Duty: Night time sessions</li>\n",
    "    <li>Control Software still not <em>mature</em></li>\n",
    "    <li>Agile Software Engineering Paradigms</li>\n",
    "    <li>Lots of Unit Testing and Documentation</li>\n",
    "</ul>\n",
    "</div>"
   ]
  },
  {
   "cell_type": "markdown",
   "metadata": {
    "slideshow": {
     "slide_type": "subslide"
    }
   },
   "source": [
    "<figure>\n",
    "<center><img src='HowDidIGetHere.jpg' style='width:750px;'></center>\n",
    "    <figcaption style=\"text-align: center\">HOW DID I GET HERE?</figcaption></figure>"
   ]
  },
  {
   "cell_type": "code",
   "execution_count": null,
   "metadata": {},
   "outputs": [],
   "source": []
  }
 ],
 "metadata": {
  "celltoolbar": "Slideshow",
  "kernelspec": {
   "display_name": "Python 3",
   "language": "python",
   "name": "python3"
  },
  "language_info": {
   "codemirror_mode": {
    "name": "ipython",
    "version": 3
   },
   "file_extension": ".py",
   "mimetype": "text/x-python",
   "name": "python",
   "nbconvert_exporter": "python",
   "pygments_lexer": "ipython3",
   "version": "3.7.3"
  }
 },
 "nbformat": 4,
 "nbformat_minor": 4
}
