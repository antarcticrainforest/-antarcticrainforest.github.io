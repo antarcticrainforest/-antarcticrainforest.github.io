{
 "cells": [
  {
   "cell_type": "code",
   "execution_count": 1,
   "metadata": {
    "slideshow": {
     "slide_type": "skip"
    }
   },
   "outputs": [],
   "source": [
    "import warnings\n",
    "\n",
    "from IPython.display import HTML\n",
    "import folium\n",
    "\n",
    "warnings.simplefilter('ignore')"
   ]
  },
  {
   "cell_type": "markdown",
   "metadata": {
    "slideshow": {
     "slide_type": "slide"
    }
   },
   "source": [
    "<figure>\n",
    "<center><img src='TitlePage2.png' style='width:750px;'></center>\n",
    "<figcaption style=\"text-align: right\"></figcaption></figure>"
   ]
  },
  {
   "cell_type": "markdown",
   "metadata": {
    "slideshow": {
     "slide_type": "slide"
    }
   },
   "source": [
    "# First a little about myself <br><br>"
   ]
  },
  {
   "cell_type": "code",
   "execution_count": 2,
   "metadata": {
    "slideshow": {
     "slide_type": "fragment"
    }
   },
   "outputs": [
    {
     "data": {
      "text/html": [
       "<div style=\"width:100%;\"><div style=\"position:relative;width:100%;height:0;padding-bottom:60%;\"><span style=\"color:#565656\">Make this Notebook Trusted to load map: File -> Trust Notebook</span><iframe src=\"about:blank\" style=\"position:absolute;width:100%;height:100%;left:0;top:0;border:none !important;\" data-html=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 onload=\"this.contentDocument.open();this.contentDocument.write(atob(this.getAttribute('data-html')));this.contentDocument.close();\" allowfullscreen webkitallowfullscreen mozallowfullscreen></iframe></div></div>"
      ],
      "text/plain": [
       "<folium.folium.Map at 0x7f38ecd6ff40>"
      ]
     },
     "metadata": {},
     "output_type": "display_data"
    }
   ],
   "source": [
    "locations=(\n",
    "    (52.945530, 12.389213, 'Kyritz', folium.Icon(color='lightblue', prefix='fa', icon='fa-universal-access')),\n",
    "    (49.941938, 12.083177, 'Hard', folium.Icon(color='orange', prefix='fa', icon='fa-user')),\n",
    "    (52.457739, 13.310591, 'FU Berlin', folium.Icon(color='lightgreen', prefix='fa', icon='fa-university')),\n",
    "    (-37.909199, 147.131103, 'Monash Uni',  folium.Icon(color='blue',  prefix='fa', icon='fa-university')),\n",
    "    (48.464822, -123.314190, 'Uni of Victoria',  folium.Icon(color='orange', prefix='fa', icon='hand-o-up')),\n",
    "    (50.727208, -3.474619, 'UK Met Office',  folium.Icon(color='black', prefix='fa', icon='hand-o-up')),\n",
    "    (-37.797191, 142.965023, 'Uni of Melbourne', folium.Icon(color='brown', prefix='fa', icon='fa-university')),\n",
    "    (53.588599, 9.829234, 'Eu XFEL', folium.Icon(color='brown', prefix='fa', icon='database')),\n",
    "    (53.488599, 9.939234, 'MPI', folium.Icon(color='darkgreen', prefix='fa', icon='diamond')))\n",
    "m = folium.Map(location=(48,20), zoom_start=4.9)\n",
    "for nn, loc in enumerate(locations):\n",
    "    folium.Marker(loc[0:2], popup=loc[2], tooltip=None, icon=loc[-1]).add_to(m)\n",
    "    \n",
    "display(m)\n",
    "#folium.Icon?"
   ]
  },
  {
   "cell_type": "markdown",
   "metadata": {
    "slideshow": {
     "slide_type": "slide"
    }
   },
   "source": [
    "<figure>\n",
    "<center><img src='TitlePage2.png' style='width:750px;'></center>\n",
    "<figcaption style=\"text-align: right\"></figcaption></figure>"
   ]
  },
  {
   "cell_type": "markdown",
   "metadata": {
    "slideshow": {
     "slide_type": "slide"
    }
   },
   "source": [
    "<figure>\n",
    "<center><img src='LaserTunnel.png' style='width:750px;'></center>\n",
    "<figcaption style=\"text-align: right\"></figcaption></figure>"
   ]
  },
  {
   "cell_type": "markdown",
   "metadata": {
    "slideshow": {
     "slide_type": "subslide"
    }
   },
   "source": [
    "<figure>\n",
    "<center><img src='LaserTunnel2.png' style='width:750px;'></center>\n",
    "<figcaption style=\"text-align: right\"></figcaption></figure>"
   ]
  },
  {
   "cell_type": "markdown",
   "metadata": {
    "slideshow": {
     "slide_type": "subslide"
    }
   },
   "source": [
    "<h1>There are 6 \"Instruments\" receiving the laser beam:<br><br></h1>\n",
    "\n",
    "<figure>\n",
    "<center><img src='SPB.jpg' style='width:750px;'></center>\n",
    "    <figcaption style=\"text-align: center\">Single Particle Biology Instrument (SPB)</figcaption></figure>"
   ]
  },
  {
   "cell_type": "markdown",
   "metadata": {
    "slideshow": {
     "slide_type": "slide"
    }
   },
   "source": [
    "<h1>One common scientific theme is:<br><br></h1>\n",
    "<figure>\n",
    "<center><img src='AimShoot.png' style='height:450px;'></center>\n",
    "<figcaption style=\"text-align: right\"></figcaption></figure>"
   ]
  },
  {
   "cell_type": "markdown",
   "metadata": {
    "slideshow": {
     "slide_type": "subslide"
    }
   },
   "source": [
    "<h2>What was I doing there?<br><br></h2>\n",
    "<figure>\n",
    "<center><img src='SCS.jpg' style='height:200px;'></center>\n",
    "    <figcaption style=\"text-align: left\"><br>Part of the Control and Analysis Software Engineering Team (CAS) that:</figcaption>\n",
    " <ul style=\"float: center;\">\n",
    "     <li>Develop the distributed control system, also for real time data analysis</li>\n",
    "     <li>Consult external research group on software deployment strategies and software development</li>"
   ]
  },
  {
   "cell_type": "markdown",
   "metadata": {
    "slideshow": {
     "slide_type": "subslide"
    }
   },
   "source": [
    "<h2>Adaptive Gain Adaptive Gain Integrating Pixel Detector (AGIPD)<br><br></h2>\n",
    "<style>\n",
    "#zoom-img {\n",
    "  width: 338px;\n",
    "  height: 338px;\n",
    "  background: url(\"AGIPD.jpeg\");\n",
    "  background-position: left;\n",
    "  background-size: cover;\n",
    "  float: left;\n",
    "}\n",
    "</style>\n",
    "\n",
    "<div style=\"clear: left;\">\n",
    "<div id=\"zoom-img\" ></div>\n",
    "  <ul style=\"float: right;\">\n",
    "    <li>Multiple Panels Detecting Signals Independently</li>\n",
    "    <li>Hole - Variable Geometry</li>\n",
    "    <li>Records at 5 MHz = 2.6 GB/s</li>\n",
    " </ul>\n",
    "\n",
    "<script>\n",
    "// CREDITS TO https://www.cssscript.com/image-zoom-pan-hover-detail-view/\n",
    "var addZoom = function (target) {\n",
    "  // FETCH CONTAINER + IMAGE\n",
    "  var container = document.getElementById(target),\n",
    "      imgsrc = container.currentStyle || window.getComputedStyle(container, false),\n",
    "      imgsrc = imgsrc.backgroundImage.slice(4, -1).replace(/\"/g, \"\"),\n",
    "      img = new Image();\n",
    "\n",
    "  // LOAD IMAGE + ATTACH ZOOM\n",
    "  img.src = imgsrc;\n",
    "  img.onload = function () {\n",
    "    var imgWidth = img.naturalWidth,\n",
    "        imgHeight = img.naturalHeight,\n",
    "        ratio = imgHeight / imgWidth,\n",
    "        percentage = ratio * 100 + '%';\n",
    "\n",
    "    // ZOOM ON MOUSE MOVE\n",
    "    container.onmousemove = function (e) {\n",
    "      var boxWidth = container.clientWidth,\n",
    "          xPos = e.pageX - this.offsetLeft,\n",
    "          yPos = e.pageY - this.offsetTop,\n",
    "          xPercent = xPos / (boxWidth / 100) + '%',\n",
    "          yPercent = yPos / (boxWidth * ratio / 100) + '%';\n",
    "\n",
    "      Object.assign(container.style, {\n",
    "        backgroundPosition: xPercent + ' ' + yPercent,\n",
    "        backgroundSize: imgWidth + 'px'\n",
    "      });\n",
    "    };\n",
    "\n",
    "    // RESET ON MOUSE LEAVE\n",
    "    container.onmouseleave = function (e) {\n",
    "      Object.assign(container.style, {\n",
    "        backgroundPosition: 'center',\n",
    "        backgroundSize: 'cover'\n",
    "      });\n",
    "    };\n",
    "  }\n",
    "};\n",
    "window.addEventListener(\"load\", function(){\n",
    "  addZoom(\"zoom-img\");\n",
    "});\n",
    "</script>"
   ]
  },
  {
   "cell_type": "markdown",
   "metadata": {
    "slideshow": {
     "slide_type": "slide"
    }
   },
   "source": [
    "<h3>Many different data sources are orchestrated by the control system<br><br></h3>\n",
    "<figure>\n",
    "<center><img src='Data_structure_1.png' style='width:750px;'></center>\n",
    "    <figcaption style=\"text-align: right\"></figcaption></figure>"
   ]
  },
  {
   "cell_type": "markdown",
   "metadata": {
    "slideshow": {
     "slide_type": "subslide"
    }
   },
   "source": [
    "<figure>\n",
    "<center><img src='Overview.png' style='width:750px;'></center>\n",
    "    <figcaption style=\"text-align: right\"></figcaption></figure>"
   ]
  },
  {
   "cell_type": "markdown",
   "metadata": {
    "slideshow": {
     "slide_type": "subslide"
    }
   },
   "source": [
    "## What about Data Management?\n",
    "* During the Experiment:\n",
    "    * Rapid feedback by the live scenes and user tools coming from the bridge.\n",
    "    * Data (run) can be (temporarily) recorded on a cluster at EuXFEL\n",
    "* After Experiment:\n",
    "    * After each run, scientist decides on quality of the data: *good*, *unclear*, *not interesting*\n",
    "    * *Good* or *unclear* data get migrated to the cluster at Desy\n",
    "* Analyse files on Maxwell cluster (Desy):\n",
    "  * During and after the experiment\n",
    "  * 180 nodes with 40 cores and ~512GB each"
   ]
  },
  {
   "cell_type": "markdown",
   "metadata": {
    "slideshow": {
     "slide_type": "subslide"
    }
   },
   "source": [
    "# File base analysis:\n",
    "* **Problem**: Data from bid detectors or cameras is recorded separately many different files:\n",
    "\n",
    "```bash\n",
    "\n",
    "bergem@max-exfl014 in ~ %-                                        \n",
    "ls –lh /gpfs/exfel/exp/SPB/201701/p002012/raw/r0359                                                                                                                                                                \n",
    "total 92G                                                                                                                                                                                                          \n",
    "-rw-r--r-- 1 xdata xdata 6.1G Jul 6 11:03 RAW-R0359-AGIPD00-S00000.h5                                                  \n",
    "-rw-r--r-- 1 xdata xdata 6.1G Jul 6 11:03 RAW-R0359-AGIPD01-S00000.h5                                                  \n",
    "-rw-r--r-- 1 xdata xdata 6.1G Jul 6 11:03 RAW-R0359-AGIPD02-S00000.h5                                                  \n",
    "-rw-r--r-- 1 xdata xdata 241K Jul 6 11:03 RAW-R0359-AGIPD03-S00000.h5                                                   \n",
    "-rw-r--r-- 1 xdata xdata 6.1G Jul 6 11:03 RAW-R0359-AGIPD04-S00000.h5                                                  \n",
    "-rw-r--r-- 1 xdata xdata 6.1G Jul 6 11:03 RAW-R0359-AGIPD05-S00000.h5                                                  \n",
    "-rw-r--r-- 1 xdata xdata 6.1G Jul 6 11:03 RAW-R0359-AGIPD06-S00000.h5                                                  \n",
    "-rw-r--r-- 1 xdata xdata 6.1G Jul 6 11:03 RAW-R0359-AGIPD07-S00000.h5                                                  \n",
    "-rw-r--r-- 1 xdata xdata 6.1G Jul 6 11:03 RAW-R0359-AGIPD08-S00000.h5                                                  \n",
    "-rw-r--r-- 1 xdata xdata 6.1G Jul 6 11:03 RAW-R0359-AGIPD09-S00000.h5                                                  \n",
    "-rw-r--r-- 1 xdata xdata 6.1G Jul 6 11:03 RAW-R0359-AGIPD10-S00000.h5                                                  \n",
    "-rw-r--r-- 1 xdata xdata 6.1G Jul 6 11:03 RAW-R0359-AGIPD11-S00000.h5                                                  \n",
    "-rw-r--r-- 1 xdata xdata 6.1G Jul 6 11:03 RAW-R0359-AGIPD12-S00000.h5                                                  \n",
    "-rw-r--r-- 1 xdata xdata 6.1G Jul 6 11:03 RAW-R0359-AGIPD13-S00000.h5                                                  \n",
    "-rw-r--r-- 1 xdata xdata 6.1G Jul 6 11:03 RAW-R0359-AGIPD14-S00000.h5                                                  \n",
    "-rw-r--r-- 1 xdata xdata 6.1G Jul 6 11:03 RAW-R0359-AGIPD15-S00000.h5                                                  \n",
    "-rw-r--r-- 1 xdata xdata 788M Jul 6 11:03 RAW-R0359-DA01-S00000.h5                                                     \n",
    "-rw-r--r-- 1 xdata xdata 38M Jul 6 11:03 RAW-R0359-DA02-S00000.h5\n",
    "\n",
    "```"
   ]
  },
  {
   "cell_type": "markdown",
   "metadata": {
    "slideshow": {
     "slide_type": "subslide"
    }
   },
   "source": [
    "<figure>\n",
    "<center><img src='agipd_geometry.png' style='height:550px;'></center>\n",
    "    <figcaption style=\"text-align: center\"></figcaption>Assambling Images can be hard</figure>"
   ]
  },
  {
   "cell_type": "markdown",
   "metadata": {
    "slideshow": {
     "slide_type": "slide"
    }
   },
   "source": [
    "<figure>\n",
    "<center><img src='ExtraData.png' style='width:750px;'></center>\n",
    "    <figcaption style=\"text-align: right\"></figcaption></figure>"
   ]
  },
  {
   "cell_type": "markdown",
   "metadata": {
    "slideshow": {
     "slide_type": "subslide"
    }
   },
   "source": [
    "```python\n",
    "import extra_data as xd\n",
    "run_folder = '/gpfs/exfel/exp/XMPL/201750/p700000/raw/r0273'\n",
    "run_dir = xd.RunDirectory(run_folder)\n",
    "run_dir.info()\n",
    "```\n",
    "\n",
    "```bash\n",
    "# of trains:    156\n",
    "Duration:       0:00:15.500000\n",
    "First train ID: 198425241\n",
    "Last train ID:  198425396\n",
    "\n",
    "16 detector modules (SPB_DET_AGIPD1M-1)\n",
    "  e.g. module SPB_DET_AGIPD1M-1 0 : 512 x 128 pixels\n",
    "  176 frames per train, 27456 total frames\n",
    "\n",
    "2 instrument sources (excluding detectors):\n",
    "  - SA1_XTD2_XGM/XGM/DOOCS:output\n",
    "  - SPB_XTD9_XGM/XGM/DOOCS:output\n",
    "\n",
    "13 control sources:\n",
    "  - ACC_SYS_DOOCS/CTRL/BEAMCONDITIONS\n",
    "  - SA1_XTD2_XGM/XGM/DOOCS\n",
    "  - SPB_IRU_AGIPD1M/PSC/HV\n",
    "  - SPB_IRU_AGIPD1M/TSENS/H1_T_EXTHOUS\n",
    "  - SPB_IRU_AGIPD1M/TSENS/H2_T_EXTHOUS\n",
    "  - SPB_IRU_AGIPD1M/TSENS/Q1_T_BLOCK\n",
    "  - SPB_IRU_AGIPD1M/TSENS/Q2_T_BLOCK\n",
    "  - SPB_IRU_AGIPD1M/TSENS/Q3_T_BLOCK\n",
    "  - SPB_IRU_AGIPD1M/TSENS/Q4_T_BLOCK\n",
    "  - SPB_IRU_AGIPD1M1/CTRL/MC1\n",
    "  - SPB_IRU_AGIPD1M1/CTRL/MC2\n",
    "  - SPB_IRU_VAC/GAUGE/GAUGE_FR_6\n",
    "  - SPB_XTD9_XGM/XGM/DOOCS\n",
    "```"
   ]
  },
  {
   "cell_type": "markdown",
   "metadata": {
    "slideshow": {
     "slide_type": "slide"
    }
   },
   "source": [
    "## Software Deployment and Documentation\n",
    "Central IT infrastructure maintained and organized by Desy-IT:\n",
    "* Deployed central Xfel **anconda** distribution:\n",
    "    * Once a new proposal (/work Project) gets created a certain software stack (*mini-conda*) is deployed\n",
    "    * User can ask for proposal specific software stack, usually before beamtime.\n",
    "* Release and update circle independent from Desy IT\n",
    "    * Proposal based jupyter-kernel gets auto installed via modules and use the kernel in jupyter-hub instance from Desy-IT\n",
    "* Jupyter Notebook as basis for user documentation\n",
    "    * All software projects using sphinx for auto-building documentation\n",
    "    * GitLab CIs to constantly test notebooks and keep documentation up to date."
   ]
  },
  {
   "cell_type": "markdown",
   "metadata": {
    "slideshow": {
     "slide_type": "subslide"
    }
   },
   "source": [
    "## Non-Python based software and Reproducibility\n",
    "* Containerizing scientific software via `singularity`:\n",
    "    * Singularity because of better integration in HPC systems (than Docker)\n",
    "* Containers are also made a part of the proposal software stack\n",
    "* Effort to design and define fully automated FaaS pipelines via slurm, kubernetes - *warppipes*. "
   ]
  },
  {
   "cell_type": "markdown",
   "metadata": {
    "slideshow": {
     "slide_type": "slide"
    }
   },
   "source": [
    "<h2>Whats it lit to work at a place like EuXfel<br></h2>\n",
    "<div style=\"clear: left;\">\n",
    "    <p style=\"float: left;\"><img src=\"Valve.jpeg\" height=\"200\" width=\"200\" border=\"50px\"></p>\n",
    "    <ul style=\"float: right;\">\n",
    "    <li>Plenty of <em>home-made</em> things: Machines, Software etc</li>\n",
    "    <li>Lots of requirements: from Instrument groups</li>\n",
    "    <li>On Call Duty: Night time sessions</li>\n",
    "    <li>Control Software still not <em>mature</em></li>\n",
    "    <li>Agile Software Engineering Paradigms</li>\n",
    "    <li>Lots of Unit Testing and Documentation</li>\n",
    "</ul>\n",
    "</div>"
   ]
  },
  {
   "cell_type": "markdown",
   "metadata": {
    "slideshow": {
     "slide_type": "subslide"
    }
   },
   "source": [
    "<figure>\n",
    "<center><img src='HowDidIGetHere.jpg' style='width:750px;'></center>\n",
    "    <figcaption style=\"text-align: center\">HOW DID I GET HERE?</figcaption></figure>"
   ]
  },
  {
   "cell_type": "code",
   "execution_count": null,
   "metadata": {},
   "outputs": [],
   "source": []
  }
 ],
 "metadata": {
  "celltoolbar": "Slideshow",
  "kernelspec": {
   "display_name": "Python 3",
   "language": "python",
   "name": "python3"
  },
  "language_info": {
   "codemirror_mode": {
    "name": "ipython",
    "version": 3
   },
   "file_extension": ".py",
   "mimetype": "text/x-python",
   "name": "python",
   "nbconvert_exporter": "python",
   "pygments_lexer": "ipython3",
   "version": "3.8.3"
  }
 },
 "nbformat": 4,
 "nbformat_minor": 4
}
