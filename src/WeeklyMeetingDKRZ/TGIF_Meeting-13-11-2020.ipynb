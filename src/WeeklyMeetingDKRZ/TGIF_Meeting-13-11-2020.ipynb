{
 "cells": [
  {
   "cell_type": "code",
   "execution_count": 14,
   "metadata": {
    "slideshow": {
     "slide_type": "skip"
    }
   },
   "outputs": [],
   "source": [
    "import warnings\n",
    "\n",
    "from IPython.display import HTML\n",
    "import folium\n",
    "\n",
    "warnings.simplefilter('ignore')"
   ]
  },
  {
   "cell_type": "markdown",
   "metadata": {
    "slideshow": {
     "slide_type": "slide"
    }
   },
   "source": [
    "<figure>\n",
    "<center><img src='TitlePage2.png' style='width:750px;'></center>\n",
    "<figcaption style=\"text-align: right\"></figcaption></figure>"
   ]
  },
  {
   "cell_type": "markdown",
   "metadata": {
    "slideshow": {
     "slide_type": "slide"
    }
   },
   "source": [
    "# First a little about myself (Martin Bergemann)"
   ]
  },
  {
   "cell_type": "code",
   "execution_count": 60,
   "metadata": {
    "slideshow": {
     "slide_type": "fragment"
    }
   },
   "outputs": [
    {
     "data": {
      "text/html": [
       "<div style=\"width:100%;\"><div style=\"position:relative;width:100%;height:0;padding-bottom:60%;\"><span style=\"color:#565656\">Make this Notebook Trusted to load map: File -> Trust Notebook</span><iframe src=\"about:blank\" style=\"position:absolute;width:100%;height:100%;left:0;top:0;border:none !important;\" data-html=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 onload=\"this.contentDocument.open();this.contentDocument.write(atob(this.getAttribute('data-html')));this.contentDocument.close();\" allowfullscreen webkitallowfullscreen mozallowfullscreen></iframe></div></div>"
      ],
      "text/plain": [
       "<folium.folium.Map at 0x7fd43a199518>"
      ]
     },
     "metadata": {},
     "output_type": "display_data"
    }
   ],
   "source": [
    "locations=(\n",
    "    (52.945530, 12.389213, 'Kyritz', folium.Icon(color='lightblue', prefix='fa', icon='fa-universal-access')),\n",
    "    (49.941938, 12.083177, 'Hard', folium.Icon(color='orange', prefix='fa', icon='fa-user')),\n",
    "    (52.457739, 13.310591, 'FU Berlin', folium.Icon(color='lightgreen', prefix='fa', icon='fa-university')),\n",
    "    (-37.909199, 147.131103, 'Monash Uni',  folium.Icon(color='blue',  prefix='fa', icon='fa-university')),\n",
    "    (48.464822, -123.314190, 'Uni of Victoria',  folium.Icon(color='orange', prefix='fa', icon='hand-o-up')),\n",
    "    (50.727208, -3.474619, 'UK Met Office',  folium.Icon(color='black', prefix='fa', icon='hand-o-up')),\n",
    "    (-37.797191, 142.965023, 'Uni of Melbourne', folium.Icon(color='brown', prefix='fa', icon='fa-university')),\n",
    "    (53.588599, 9.829234, 'Eu XFEL', folium.Icon(color='brown', prefix='fa', icon='database')),\n",
    "    (53.488599, 9.939234, 'MPI', folium.Icon(color='darkgreen', prefix='fa', icon='diamond')))\n",
    "m = folium.Map(location=(48,20), zoom_start=4.9)\n",
    "for nn, loc in enumerate(locations):\n",
    "    folium.Marker(loc[0:2], popup=loc[2], tooltip=None, icon=loc[-1]).add_to(m)\n",
    "    \n",
    "display(m)\n",
    "#folium.Icon?"
   ]
  },
  {
   "cell_type": "markdown",
   "metadata": {
    "slideshow": {
     "slide_type": "slide"
    }
   },
   "source": [
    "<figure>\n",
    "<center><img src='TitlePage2.png' style='width:750px;'></center>\n",
    "<figcaption style=\"text-align: right\"></figcaption></figure>"
   ]
  },
  {
   "cell_type": "markdown",
   "metadata": {
    "slideshow": {
     "slide_type": "slide"
    }
   },
   "source": [
    "<figure>\n",
    "<center><img src='LaserTunnel.png' style='width:750px;'></center>\n",
    "<figcaption style=\"text-align: right\"></figcaption></figure>"
   ]
  },
  {
   "cell_type": "markdown",
   "metadata": {
    "slideshow": {
     "slide_type": "subslide"
    }
   },
   "source": [
    "<figure>\n",
    "<center><img src='LaserTunnel2.png' style='width:750px;'></center>\n",
    "<figcaption style=\"text-align: right\"></figcaption></figure>"
   ]
  },
  {
   "cell_type": "markdown",
   "metadata": {
    "slideshow": {
     "slide_type": "subslide"
    }
   },
   "source": [
    "<h2>There are 6 \"Instruments\" receiving the laser beam:<br></h2>\n",
    "\n",
    "<figure>\n",
    "<center><img src='SPB.jpg' style='width:750px;'></center>\n",
    "    <figcaption style=\"text-align: center\">Single Particle Biology Instrument (SPB)</figcaption></figure>"
   ]
  },
  {
   "cell_type": "markdown",
   "metadata": {
    "slideshow": {
     "slide_type": "subslide"
    }
   },
   "source": [
    "<h2>What was I doing there?<br></h2>\n",
    "<figure>\n",
    "<center><img src='SCS.jpg' style='height:200px;'></center>\n",
    "    <figcaption style=\"text-align: left\"><br>Part of the Control and Analysis Software Engineering Team (CAS) that:</figcaption>\n",
    " <ul style=\"float: center;\">\n",
    "     <li>Develop the distributed control system, also for real time data analysis</li>\n",
    "     <li>Consult external research group on software deployment strategies and software development</li>"
   ]
  },
  {
   "cell_type": "markdown",
   "metadata": {
    "slideshow": {
     "slide_type": "slide"
    }
   },
   "source": [
    "<h2>One common scientific theme is:<br></h2>\n",
    "<figure>\n",
    "<center><img src='AimShoot.png' style='height:450px;'></center>\n",
    "<figcaption style=\"text-align: right\"></figcaption></figure>"
   ]
  },
  {
   "cell_type": "markdown",
   "metadata": {
    "slideshow": {
     "slide_type": "slide"
    }
   },
   "source": [
    "<h2>Adaptive Gain Adaptive Gain Integrating Pixel Detector (AGIPD)<br></h2>\n",
    "<div style=\"clear: left;\">\n",
    "    <p style=\"float: left;\"><img src=\"AGIPD.jpeg\" height=\"200\" width=\"200\" border=\"50px\"></p>\n",
    "    <ul style=\"float: left;\">\n",
    "    <li>Multiple Panels Detecting Signals Independently</li>\n",
    "    <li>Hole - Variable Geometry</li>\n",
    "    <li>Records at 500 MHz = 2.6 GB/s</li>\n",
    " </ul>\n",
    "</div>"
   ]
  },
  {
   "cell_type": "markdown",
   "metadata": {
    "slideshow": {
     "slide_type": "slide"
    }
   },
   "source": [
    "<h3>Many different data sources are orchestrated by the control system<br></h3>\n",
    "<figure>\n",
    "<center><img src='Data_structure_1.png' style='width:750px;'></center>\n",
    "    <figcaption style=\"text-align: right\"></figcaption></figure>"
   ]
  },
  {
   "cell_type": "markdown",
   "metadata": {
    "slideshow": {
     "slide_type": "subslide"
    }
   },
   "source": [
    "<figure>\n",
    "<center><img src='Overview.png' style='width:750px;'></center>\n",
    "    <figcaption style=\"text-align: right\"></figcaption></figure>"
   ]
  },
  {
   "cell_type": "markdown",
   "metadata": {
    "slideshow": {
     "slide_type": "slide"
    }
   },
   "source": [
    "## What about Data Management?\n",
    "* During the Experiment:\n",
    "    * Rapid feedback by the live scenes and user tools coming from the bridge.\n",
    "    * Data (run) can be (temporarily) recorded on a cluster at EuXFEL\n",
    "* After Experiment:\n",
    "    * After each run, scientist decides on quality of the data: *good*, *unclear*, *not interesting*\n",
    "    * *Good* or *unclear* data get migrated to the cluster at Desy\n",
    "* Analyse files on Maxwell cluster (Desy):\n",
    "  * During and after the experiment\n",
    "  * 180 nodes with 40 cores and ~512GB each"
   ]
  },
  {
   "cell_type": "markdown",
   "metadata": {
    "slideshow": {
     "slide_type": "slide"
    }
   },
   "source": [
    "<div class=\"text_cell_render border-box-sizing rendered_html\">                                                                                                   \n",
    "<h2 id=\"File-based-analysis:\">File based analysis:<a class=\"anchor-link\" href=\"#File-based-analysis:\">&#182;</a></h2><ul>                                                                                          \n",
    "<li><strong>Problem</strong>: Data from big detectors is recorded separately -&gt; many different files:\n",
    "<font size='2'>\n",
    "    <div class=\"highlight\"><pre><span></span>bergem@max-exfl014 in ~ %-                                        \n",
    "ls –lh /gpfs/exfel/exp/SPB/201701/p002012/raw/r0359                                                                                                                                                                \n",
    "total 92G                                                                                                                                                                                                          \n",
    "-rw-r--r-- <span class=\"m\">1</span> xdata xdata <span class=\"m\">6</span>.1G Jul <span class=\"m\">6</span> <span class=\"m\">11</span>:03 RAW-R0359-AGIPD00-S00000.h5                                                  \n",
    "-rw-r--r-- <span class=\"m\">1</span> xdata xdata <span class=\"m\">6</span>.1G Jul <span class=\"m\">6</span> <span class=\"m\">11</span>:03 RAW-R0359-AGIPD01-S00000.h5                                                  \n",
    "-rw-r--r-- <span class=\"m\">1</span> xdata xdata <span class=\"m\">6</span>.1G Jul <span class=\"m\">6</span> <span class=\"m\">11</span>:03 RAW-R0359-AGIPD02-S00000.h5                                                  \n",
    "-rw-r--r-- <span class=\"m\">1</span> xdata xdata 241K Jul <span class=\"m\">6</span> <span class=\"m\">11</span>:03 RAW-R0359-AGIPD03-S00000.h5                                                                         \n",
    "-rw-r--r-- <span class=\"m\">1</span> xdata xdata <span class=\"m\">6</span>.1G Jul <span class=\"m\">6</span> <span class=\"m\">11</span>:03 RAW-R0359-AGIPD04-S00000.h5                                                  \n",
    "-rw-r--r-- <span class=\"m\">1</span> xdata xdata <span class=\"m\">6</span>.1G Jul <span class=\"m\">6</span> <span class=\"m\">11</span>:03 RAW-R0359-AGIPD05-S00000.h5                                                  \n",
    "-rw-r--r-- <span class=\"m\">1</span> xdata xdata <span class=\"m\">6</span>.1G Jul <span class=\"m\">6</span> <span class=\"m\">11</span>:03 RAW-R0359-AGIPD06-S00000.h5                                                  \n",
    "-rw-r--r-- <span class=\"m\">1</span> xdata xdata <span class=\"m\">6</span>.1G Jul <span class=\"m\">6</span> <span class=\"m\">11</span>:03 RAW-R0359-AGIPD07-S00000.h5                                                  \n",
    "-rw-r--r-- <span class=\"m\">1</span> xdata xdata <span class=\"m\">6</span>.1G Jul <span class=\"m\">6</span> <span class=\"m\">11</span>:03 RAW-R0359-AGIPD08-S00000.h5                                                  \n",
    "-rw-r--r-- <span class=\"m\">1</span> xdata xdata <span class=\"m\">6</span>.1G Jul <span class=\"m\">6</span> <span class=\"m\">11</span>:03 RAW-R0359-AGIPD09-S00000.h5                                                  \n",
    "-rw-r--r-- <span class=\"m\">1</span> xdata xdata <span class=\"m\">6</span>.1G Jul <span class=\"m\">6</span> <span class=\"m\">11</span>:03 RAW-R0359-AGIPD10-S00000.h5                                                  \n",
    "-rw-r--r-- <span class=\"m\">1</span> xdata xdata <span class=\"m\">6</span>.1G Jul <span class=\"m\">6</span> <span class=\"m\">11</span>:03 RAW-R0359-AGIPD11-S00000.h5                                                  \n",
    "-rw-r--r-- <span class=\"m\">1</span> xdata xdata <span class=\"m\">6</span>.1G Jul <span class=\"m\">6</span> <span class=\"m\">11</span>:03 RAW-R0359-AGIPD12-S00000.h5                                                  \n",
    "-rw-r--r-- <span class=\"m\">1</span> xdata xdata <span class=\"m\">6</span>.1G Jul <span class=\"m\">6</span> <span class=\"m\">11</span>:03 RAW-R0359-AGIPD13-S00000.h5                                                  \n",
    "-rw-r--r-- <span class=\"m\">1</span> xdata xdata <span class=\"m\">6</span>.1G Jul <span class=\"m\">6</span> <span class=\"m\">11</span>:03 RAW-R0359-AGIPD14-S00000.h5                                                  \n",
    "-rw-r--r-- <span class=\"m\">1</span> xdata xdata <span class=\"m\">6</span>.1G Jul <span class=\"m\">6</span> <span class=\"m\">11</span>:03 RAW-R0359-AGIPD15-S00000.h5                                                  \n",
    "-rw-r--r-- <span class=\"m\">1</span> xdata xdata 788M Jul <span class=\"m\">6</span> <span class=\"m\">11</span>:03 RAW-R0359-DA01-S00000.h5                                                                            \n",
    "-rw-r--r-- <span class=\"m\">1</span> xdata xdata 38M Jul <span class=\"m\">6</span> <span class=\"m\">11</span>:03 RAW-R0359-DA02-S00000.h5                                                                             \n",
    "</pre></div>                                                                                                    </font>                                                                                                   \n",
    "Data analysis can be very tedious</li>                                                                                                                                                                             \n",
    "</ul>                                                                                                                                                                                                              \n",
    "                                                                                                                                                                                                                   \n",
    "</div>                    "
   ]
  },
  {
   "cell_type": "markdown",
   "metadata": {
    "slideshow": {
     "slide_type": "slide"
    }
   },
   "source": [
    "<figure>\n",
    "<center><img src='ExtraData.png' style='width:750px;'></center>\n",
    "    <figcaption style=\"text-align: right\"></figcaption></figure>"
   ]
  },
  {
   "cell_type": "markdown",
   "metadata": {
    "slideshow": {
     "slide_type": "subslide"
    }
   },
   "source": [
    "<section><section>\n",
    "<font size=\"2\">\n",
    "<div class=\"cell border-box-sizing text_cell rendered\"><div class=\"prompt input_prompt\">\n",
    "</div><div class=\"inner_cell\">\n",
    "<div class=\"text_cell_render border-box-sizing rendered_html\">\n",
    "<div class=\"highlight\"><pre><span></span><span class=\"kn\">import</span> <span class=\"nn\">extra_data</span> <span class=\"k\">as</span> <span class=\"nn\">xd</span>\n",
    "<span class=\"n\">run_folder</span> <span class=\"o\">=</span> <span class=\"s1\">&#39;/gpfs/exfel/exp/XMPL/201750/p700000/raw/r0273&#39;</span>\n",
    "<span class=\"n\">run_dir</span> <span class=\"o\">=</span> <span class=\"n\">xd</span><span class=\"o\">.</span><span class=\"n\">RunDirectory</span><span class=\"p\">(</span><span class=\"n\">run_folder</span><span class=\"p\">)</span>\n",
    "<span class=\"n\">run_dir</span><span class=\"o\">.</span><span class=\"n\">info</span><span class=\"p\">()</span>\n",
    "</pre></div>\n",
    "<div class=\"highlight\"><pre><span></span><span class=\"c1\"># of trains:    156</span>\n",
    "Duration:       <span class=\"m\">0</span>:00:15.500000\n",
    "First train ID: <span class=\"m\">198425241</span>\n",
    "Last train ID:  <span class=\"m\">198425396</span>\n",
    "\n",
    "<span class=\"m\">16</span> detector modules <span class=\"o\">(</span>SPB_DET_AGIPD1M-1<span class=\"o\">)</span>\n",
    "  e.g. module SPB_DET_AGIPD1M-1 <span class=\"m\">0</span> : <span class=\"m\">512</span> x <span class=\"m\">128</span> pixels\n",
    "  <span class=\"m\">176</span> frames per train, <span class=\"m\">27456</span> total frames\n",
    "\n",
    "<span class=\"m\">2</span> instrument sources <span class=\"o\">(</span>excluding detectors<span class=\"o\">)</span>:\n",
    "  - SA1_XTD2_XGM/XGM/DOOCS:output\n",
    "  - SPB_XTD9_XGM/XGM/DOOCS:output\n",
    "\n",
    "<span class=\"m\">13</span> control sources:\n",
    "  - ACC_SYS_DOOCS/CTRL/BEAMCONDITIONS\n",
    "  - SA1_XTD2_XGM/XGM/DOOCS\n",
    "  - SPB_IRU_AGIPD1M/PSC/HV\n",
    "  - SPB_IRU_AGIPD1M/TSENS/H1_T_EXTHOUS\n",
    "  - SPB_IRU_AGIPD1M/TSENS/H2_T_EXTHOUS\n",
    "  - SPB_IRU_AGIPD1M/TSENS/Q1_T_BLOCK\n",
    "  - SPB_IRU_AGIPD1M/TSENS/Q2_T_BLOCK\n",
    "  - SPB_IRU_AGIPD1M/TSENS/Q3_T_BLOCK\n",
    "  - SPB_IRU_AGIPD1M/TSENS/Q4_T_BLOCK\n",
    "  - SPB_IRU_AGIPD1M1/CTRL/MC1\n",
    "  - SPB_IRU_AGIPD1M1/CTRL/MC2\n",
    "  - SPB_IRU_VAC/GAUGE/GAUGE_FR_6\n",
    "  - SPB_XTD9_XGM/XGM/DOOCS\n",
    "</pre></div>\n",
    "\n",
    "</div>\n",
    "</div>\n",
    "</div>\n",
    "    </font>\n",
    "</section>"
   ]
  },
  {
   "cell_type": "markdown",
   "metadata": {
    "slideshow": {
     "slide_type": "skip"
    }
   },
   "source": [
    "```python\n",
    "import extra_data as xd\n",
    "run_folder = '/gpfs/exfel/exp/XMPL/201750/p700000/raw/r0273'\n",
    "run_dir = xd.RunDirectory(run_folder)\n",
    "run_dir.info()\n",
    "```\n",
    "\n",
    "```bash\n",
    "# of trains:    156\n",
    "Duration:       0:00:15.500000\n",
    "First train ID: 198425241\n",
    "Last train ID:  198425396\n",
    "\n",
    "16 detector modules (SPB_DET_AGIPD1M-1)\n",
    "  e.g. module SPB_DET_AGIPD1M-1 0 : 512 x 128 pixels\n",
    "  176 frames per train, 27456 total frames\n",
    "\n",
    "2 instrument sources (excluding detectors):\n",
    "  - SA1_XTD2_XGM/XGM/DOOCS:output\n",
    "  - SPB_XTD9_XGM/XGM/DOOCS:output\n",
    "\n",
    "13 control sources:\n",
    "  - ACC_SYS_DOOCS/CTRL/BEAMCONDITIONS\n",
    "  - SA1_XTD2_XGM/XGM/DOOCS\n",
    "  - SPB_IRU_AGIPD1M/PSC/HV\n",
    "  - SPB_IRU_AGIPD1M/TSENS/H1_T_EXTHOUS\n",
    "  - SPB_IRU_AGIPD1M/TSENS/H2_T_EXTHOUS\n",
    "  - SPB_IRU_AGIPD1M/TSENS/Q1_T_BLOCK\n",
    "  - SPB_IRU_AGIPD1M/TSENS/Q2_T_BLOCK\n",
    "  - SPB_IRU_AGIPD1M/TSENS/Q3_T_BLOCK\n",
    "  - SPB_IRU_AGIPD1M/TSENS/Q4_T_BLOCK\n",
    "  - SPB_IRU_AGIPD1M1/CTRL/MC1\n",
    "  - SPB_IRU_AGIPD1M1/CTRL/MC2\n",
    "  - SPB_IRU_VAC/GAUGE/GAUGE_FR_6\n",
    "  - SPB_XTD9_XGM/XGM/DOOCS\n",
    "```"
   ]
  },
  {
   "cell_type": "markdown",
   "metadata": {
    "slideshow": {
     "slide_type": "subslide"
    }
   },
   "source": [
    "## Software Deployment\n",
    "Central IT infrastructure maintained and organized by Desy-IT:\n",
    "* Deployed central Xfel **anconda** distribution:\n",
    "    * Once a new proposal (/work Project) gets created a certain software stack (*mini-conda*) is deployed\n",
    "    * User can ask for proposal specific software stack, usually before beamtime.\n",
    "* Release and update circle independent from Desy IT\n",
    "    * Proposal based jupyter-kernel gets auto installed via modules and use the kernel in jupyter-hub instance from Desy-IT\n"
   ]
  },
  {
   "cell_type": "markdown",
   "metadata": {
    "slideshow": {
     "slide_type": "subslide"
    }
   },
   "source": [
    "## Non-Python based software and Reproducibility\n",
    "* Containerizing scientific software via `singularity`:\n",
    "    * Singularity because of better integration in HPC systems (than Docker)\n",
    "* Containers are also made a part of the proposal software stack\n",
    "* Effort to design and define fully automated FaaS pipelines via slurm, kubernetes - *warppipes*. "
   ]
  },
  {
   "cell_type": "markdown",
   "metadata": {
    "slideshow": {
     "slide_type": "slide"
    }
   },
   "source": [
    "<h2>Whats it lit to work at a place like EuXfel<br></h2>\n",
    "<div style=\"clear: left;\">\n",
    "    <p style=\"float: left;\"><img src=\"Valve.jpeg\" height=\"200\" width=\"200\" border=\"50px\"></p>\n",
    "    <ul style=\"float: left;\">\n",
    "    <li>Plenty of <em>home-made</em> things: Machines, Software etc</li>\n",
    "    <li>Lots of requirements: from Instrument groups</li>\n",
    "    <li>On Call Duty: Night time sessions</li>\n",
    "    <li>Control Software still not <em>mature</em></li>\n",
    "    <li>Agile Software Engineering Paradigms</li>\n",
    "    <li>Lots of Unit Testing and Documentation</li>\n",
    "</ul>\n",
    "</div>"
   ]
  },
  {
   "cell_type": "markdown",
   "metadata": {
    "slideshow": {
     "slide_type": "subslide"
    }
   },
   "source": [
    "<figure>\n",
    "<center><img src='HowDidIGetHere.jpg' style='width:750px;'></center>\n",
    "    <figcaption style=\"text-align: center\">HOW DID I GET HERE?</figcaption></figure>"
   ]
  },
  {
   "cell_type": "code",
   "execution_count": null,
   "metadata": {},
   "outputs": [],
   "source": []
  }
 ],
 "metadata": {
  "celltoolbar": "Slideshow",
  "kernelspec": {
   "display_name": "Python 3",
   "language": "python",
   "name": "python3"
  },
  "language_info": {
   "codemirror_mode": {
    "name": "ipython",
    "version": 3
   },
   "file_extension": ".py",
   "mimetype": "text/x-python",
   "name": "python",
   "nbconvert_exporter": "python",
   "pygments_lexer": "ipython3",
   "version": "3.7.3"
  }
 },
 "nbformat": 4,
 "nbformat_minor": 4
}
