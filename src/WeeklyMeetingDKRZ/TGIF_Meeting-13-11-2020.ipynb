{
 "cells": [
  {
   "cell_type": "code",
   "execution_count": 1,
   "metadata": {
    "slideshow": {
     "slide_type": "skip"
    }
   },
   "outputs": [],
   "source": [
    "import warnings\n",
    "\n",
    "from IPython.display import HTML\n",
    "import folium\n",
    "\n",
    "warnings.simplefilter('ignore')"
   ]
  },
  {
   "cell_type": "markdown",
   "metadata": {
    "slideshow": {
     "slide_type": "slide"
    }
   },
   "source": [
    "<figure>\n",
    "<center><img src='TitlePage2.png' style='width:750px;'></center>\n",
    "<figcaption style=\"text-align: right\"></figcaption></figure>"
   ]
  },
  {
   "cell_type": "markdown",
   "metadata": {
    "slideshow": {
     "slide_type": "slide"
    }
   },
   "source": [
    "# First a little about myself <br>"
   ]
  },
  {
   "cell_type": "code",
   "execution_count": 2,
   "metadata": {
    "slideshow": {
     "slide_type": "fragment"
    }
   },
   "outputs": [
    {
     "data": {
      "text/html": [
       "<div style=\"width:100%;\"><div style=\"position:relative;width:100%;height:0;padding-bottom:60%;\"><span style=\"color:#565656\">Make this Notebook Trusted to load map: File -> Trust Notebook</span><iframe src=\"about:blank\" style=\"position:absolute;width:100%;height:100%;left:0;top:0;border:none !important;\" data-html=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 onload=\"this.contentDocument.open();this.contentDocument.write(atob(this.getAttribute('data-html')));this.contentDocument.close();\" allowfullscreen webkitallowfullscreen mozallowfullscreen></iframe></div></div>"
      ],
      "text/plain": [
       "<folium.folium.Map at 0x7f9c605d4dc0>"
      ]
     },
     "metadata": {},
     "output_type": "display_data"
    }
   ],
   "source": [
    "locations=(\n",
    "    (52.945530, 12.389213, 'Kyritz', folium.Icon(color='lightblue', prefix='fa', icon='fa-universal-access')),\n",
    "    (49.941938, 12.083177, 'Hard', folium.Icon(color='orange', prefix='fa', icon='fa-user')),\n",
    "    (52.457739, 13.310591, 'FU Berlin', folium.Icon(color='lightgreen', prefix='fa', icon='fa-university')),\n",
    "    (-37.909199, 147.131103, 'Monash Uni',  folium.Icon(color='blue',  prefix='fa', icon='fa-university')),\n",
    "    (48.464822, -123.314190, 'Uni of Victoria',  folium.Icon(color='orange', prefix='fa', icon='hand-o-up')),\n",
    "    (50.727208, -3.474619, 'UK Met Office',  folium.Icon(color='black', prefix='fa', icon='hand-o-up')),\n",
    "    (-37.797191, 142.965023, 'Uni of Melbourne', folium.Icon(color='brown', prefix='fa', icon='fa-university')),\n",
    "    (53.588599, 9.829234, 'Eu XFEL', folium.Icon(color='brown', prefix='fa', icon='database')),\n",
    "    (53.488599, 9.939234, 'MPI', folium.Icon(color='darkgreen', prefix='fa', icon='diamond')))\n",
    "m = folium.Map(location=(48,20), zoom_start=4.9)\n",
    "for nn, loc in enumerate(locations):\n",
    "    folium.Marker(loc[0:2], popup=loc[2], tooltip=None, icon=loc[-1]).add_to(m)\n",
    "    \n",
    "display(m)\n",
    "#folium.Icon?"
   ]
  },
  {
   "cell_type": "markdown",
   "metadata": {
    "slideshow": {
     "slide_type": "slide"
    }
   },
   "source": [
    "<figure>\n",
    "<center><img src='TitlePage2.png' style='width:750px;'></center>\n",
    "<figcaption style=\"text-align: right\"></figcaption></figure>"
   ]
  },
  {
   "cell_type": "markdown",
   "metadata": {
    "slideshow": {
     "slide_type": "slide"
    }
   },
   "source": [
    "<figure>\n",
    "<center><img src='LaserTunnel.png' style='width:750px;'></center>\n",
    "<figcaption style=\"text-align: right\"></figcaption></figure>"
   ]
  },
  {
   "cell_type": "markdown",
   "metadata": {
    "slideshow": {
     "slide_type": "subslide"
    }
   },
   "source": [
    "<figure>\n",
    "<center><img src='LaserTunnel2.png' style='width:750px;'></center>\n",
    "<figcaption style=\"text-align: right\"></figcaption></figure>"
   ]
  },
  {
   "cell_type": "markdown",
   "metadata": {
    "slideshow": {
     "slide_type": "subslide"
    }
   },
   "source": [
    "<h1>There are 6 \"Instruments\" receiving the laser beam:<br><br></h1>\n",
    "\n",
    "<figure>\n",
    "<center><img src='SPB.jpg' style='width:750px;'></center>\n",
    "    <figcaption style=\"text-align: center\">Single Particle Biology Instrument (SPB)</figcaption></figure>"
   ]
  },
  {
   "cell_type": "markdown",
   "metadata": {
    "slideshow": {
     "slide_type": "subslide"
    }
   },
   "source": [
    "<h1>One common scientific theme is:<br><br></h1>\n",
    "<figure>\n",
    "<center><img src='AimShoot.png' style='height:450px;'></center>\n",
    "<figcaption style=\"text-align: right\"></figcaption></figure>"
   ]
  },
  {
   "cell_type": "markdown",
   "metadata": {
    "slideshow": {
     "slide_type": "subslide"
    }
   },
   "source": [
    "<h2>What was I doing there?<br><br></h2>\n",
    "<figure>\n",
    "<center><img src='SCS.jpg' style='height:200px;'></center>\n",
    "    <figcaption style=\"text-align: left\"><br>Part of the Control and Analysis Software Engineering Team (CAS) that:</figcaption>\n",
    " <ul style=\"float: center;\">\n",
    "     <li>Develop the distributed control system, also for real time data analysis</li>\n",
    "     <li>Consult external research group on software deployment strategies and software development</li>"
   ]
  },
  {
   "cell_type": "markdown",
   "metadata": {
    "slideshow": {
     "slide_type": "slide"
    }
   },
   "source": [
    "<h2>Adaptive Gain Adaptive Gain Integrating Pixel Detector (AGIPD)<br><br></h2>\n",
    "<div style=\"clear: left;\">\n",
    "    <p style=\"float: left;\"><img src=\"AGIPD.jpeg\" height=\"200\" width=\"200\" border=\"50px\"></p>\n",
    "    <ul style=\"float: right;\">\n",
    "    <li>Multiple Panels Detecting Signals Independently</li>\n",
    "    <li>Hole - Variable Geometry</li>\n",
    "    <li>Records at 500 MHz = 2.6 GB/s</li>\n",
    " </ul>\n",
    "</div>"
   ]
  },
  {
   "cell_type": "markdown",
   "metadata": {
    "slideshow": {
     "slide_type": "slide"
    }
   },
   "source": [
    "<h3>Many different data sources are orchestrated by the control system<br><br></h3>\n",
    "<figure>\n",
    "<center><img src='Data_structure_1.png' style='width:750px;'></center>\n",
    "    <figcaption style=\"text-align: right\"></figcaption></figure>"
   ]
  },
  {
   "cell_type": "markdown",
   "metadata": {
    "slideshow": {
     "slide_type": "subslide"
    }
   },
   "source": [
    "<figure>\n",
    "<center><img src='Overview.png' style='width:750px;'></center>\n",
    "    <figcaption style=\"text-align: right\"></figcaption></figure>"
   ]
  },
  {
   "cell_type": "markdown",
   "metadata": {
    "slideshow": {
     "slide_type": "slide"
    }
   },
   "source": [
    "## What about Data Management?\n",
    "* During the Experiment:\n",
    "    * Rapid feedback by the live scenes and user tools coming from the bridge.\n",
    "    * Data (run) can be (temporarily) recorded on a cluster at EuXFEL\n",
    "* After Experiment:\n",
    "    * After each run, scientist decides on quality of the data: *good*, *unclear*, *not interesting*\n",
    "    * *Good* or *unclear* data get migrated to the cluster at Desy\n",
    "* Analyse files on Maxwell cluster (Desy):\n",
    "  * During and after the experiment\n",
    "  * 180 nodes with 40 cores and ~512GB each"
   ]
  },
  {
   "cell_type": "markdown",
   "metadata": {
    "slideshow": {
     "slide_type": "slide"
    }
   },
   "source": [
    "# File base analysis:\n",
    "* **Problem**: Data from bid detectors or cameras is recorded separately many different files:\n",
    "\n",
    "```bash\n",
    "\n",
    "bergem@max-exfl014 in ~ %-                                        \n",
    "ls –lh /gpfs/exfel/exp/SPB/201701/p002012/raw/r0359                                                                                                                                                                \n",
    "total 92G                                                                                                                                                                                                          \n",
    "-rw-r--r-- 1 xdata xdata 6.1G Jul 6 11:03 RAW-R0359-AGIPD00-S00000.h5                                                  \n",
    "-rw-r--r-- 1 xdata xdata 6.1G Jul 6 11:03 RAW-R0359-AGIPD01-S00000.h5                                                  \n",
    "-rw-r--r-- 1 xdata xdata 6.1G Jul 6 11:03 RAW-R0359-AGIPD02-S00000.h5                                                  \n",
    "-rw-r--r-- 1 xdata xdata 241K Jul 6 11:03 RAW-R0359-AGIPD03-S00000.h5                                                   \n",
    "-rw-r--r-- 1 xdata xdata 6.1G Jul 6 11:03 RAW-R0359-AGIPD04-S00000.h5                                                  \n",
    "-rw-r--r-- 1 xdata xdata 6.1G Jul 6 11:03 RAW-R0359-AGIPD05-S00000.h5                                                  \n",
    "-rw-r--r-- 1 xdata xdata 6.1G Jul 6 11:03 RAW-R0359-AGIPD06-S00000.h5                                                  \n",
    "-rw-r--r-- 1 xdata xdata 6.1G Jul 6 11:03 RAW-R0359-AGIPD07-S00000.h5                                                  \n",
    "-rw-r--r-- 1 xdata xdata 6.1G Jul 6 11:03 RAW-R0359-AGIPD08-S00000.h5                                                  \n",
    "-rw-r--r-- 1 xdata xdata 6.1G Jul 6 11:03 RAW-R0359-AGIPD09-S00000.h5                                                  \n",
    "-rw-r--r-- 1 xdata xdata 6.1G Jul 6 11:03 RAW-R0359-AGIPD10-S00000.h5                                                  \n",
    "-rw-r--r-- 1 xdata xdata 6.1G Jul 6 11:03 RAW-R0359-AGIPD11-S00000.h5                                                  \n",
    "-rw-r--r-- 1 xdata xdata 6.1G Jul 6 11:03 RAW-R0359-AGIPD12-S00000.h5                                                  \n",
    "-rw-r--r-- 1 xdata xdata 6.1G Jul 6 11:03 RAW-R0359-AGIPD13-S00000.h5                                                  \n",
    "-rw-r--r-- 1 xdata xdata 6.1G Jul 6 11:03 RAW-R0359-AGIPD14-S00000.h5                                                  \n",
    "-rw-r--r-- 1 xdata xdata 6.1G Jul 6 11:03 RAW-R0359-AGIPD15-S00000.h5                                                  \n",
    "-rw-r--r-- 1 xdata xdata 788M Jul 6 11:03 RAW-R0359-DA01-S00000.h5                                                     \n",
    "-rw-r--r-- 1 xdata xdata 38M Jul 6 11:03 RAW-R0359-DA02-S00000.h5\n",
    "\n",
    "```"
   ]
  },
  {
   "cell_type": "markdown",
   "metadata": {
    "slideshow": {
     "slide_type": "slide"
    }
   },
   "source": [
    "<figure>\n",
    "<center><img src='ExtraData.png' style='width:750px;'></center>\n",
    "    <figcaption style=\"text-align: right\"></figcaption></figure>"
   ]
  },
  {
   "cell_type": "markdown",
   "metadata": {
    "slideshow": {
     "slide_type": "slide"
    }
   },
   "source": [
    "```python\n",
    "import extra_data as xd\n",
    "run_folder = '/gpfs/exfel/exp/XMPL/201750/p700000/raw/r0273'\n",
    "run_dir = xd.RunDirectory(run_folder)\n",
    "run_dir.info()\n",
    "```\n",
    "\n",
    "```bash\n",
    "# of trains:    156\n",
    "Duration:       0:00:15.500000\n",
    "First train ID: 198425241\n",
    "Last train ID:  198425396\n",
    "\n",
    "16 detector modules (SPB_DET_AGIPD1M-1)\n",
    "  e.g. module SPB_DET_AGIPD1M-1 0 : 512 x 128 pixels\n",
    "  176 frames per train, 27456 total frames\n",
    "\n",
    "2 instrument sources (excluding detectors):\n",
    "  - SA1_XTD2_XGM/XGM/DOOCS:output\n",
    "  - SPB_XTD9_XGM/XGM/DOOCS:output\n",
    "\n",
    "13 control sources:\n",
    "  - ACC_SYS_DOOCS/CTRL/BEAMCONDITIONS\n",
    "  - SA1_XTD2_XGM/XGM/DOOCS\n",
    "  - SPB_IRU_AGIPD1M/PSC/HV\n",
    "  - SPB_IRU_AGIPD1M/TSENS/H1_T_EXTHOUS\n",
    "  - SPB_IRU_AGIPD1M/TSENS/H2_T_EXTHOUS\n",
    "  - SPB_IRU_AGIPD1M/TSENS/Q1_T_BLOCK\n",
    "  - SPB_IRU_AGIPD1M/TSENS/Q2_T_BLOCK\n",
    "  - SPB_IRU_AGIPD1M/TSENS/Q3_T_BLOCK\n",
    "  - SPB_IRU_AGIPD1M/TSENS/Q4_T_BLOCK\n",
    "  - SPB_IRU_AGIPD1M1/CTRL/MC1\n",
    "  - SPB_IRU_AGIPD1M1/CTRL/MC2\n",
    "  - SPB_IRU_VAC/GAUGE/GAUGE_FR_6\n",
    "  - SPB_XTD9_XGM/XGM/DOOCS\n",
    "```"
   ]
  },
  {
   "cell_type": "markdown",
   "metadata": {
    "slideshow": {
     "slide_type": "subslide"
    }
   },
   "source": [
    "## Software Deployment\n",
    "Central IT infrastructure maintained and organized by Desy-IT:\n",
    "* Deployed central Xfel **anconda** distribution:\n",
    "    * Once a new proposal (/work Project) gets created a certain software stack (*mini-conda*) is deployed\n",
    "    * User can ask for proposal specific software stack, usually before beamtime.\n",
    "* Release and update circle independent from Desy IT\n",
    "    * Proposal based jupyter-kernel gets auto installed via modules and use the kernel in jupyter-hub instance from Desy-IT\n"
   ]
  },
  {
   "cell_type": "markdown",
   "metadata": {
    "slideshow": {
     "slide_type": "subslide"
    }
   },
   "source": [
    "## Non-Python based software and Reproducibility\n",
    "* Containerizing scientific software via `singularity`:\n",
    "    * Singularity because of better integration in HPC systems (than Docker)\n",
    "* Containers are also made a part of the proposal software stack\n",
    "* Effort to design and define fully automated FaaS pipelines via slurm, kubernetes - *warppipes*. "
   ]
  },
  {
   "cell_type": "markdown",
   "metadata": {
    "slideshow": {
     "slide_type": "slide"
    }
   },
   "source": [
    "<h2>Whats it lit to work at a place like EuXfel<br></h2>\n",
    "<div style=\"clear: left;\">\n",
    "    <p style=\"float: left;\"><img src=\"Valve.jpeg\" height=\"200\" width=\"200\" border=\"50px\"></p>\n",
    "    <ul style=\"float: right;\">\n",
    "    <li>Plenty of <em>home-made</em> things: Machines, Software etc</li>\n",
    "    <li>Lots of requirements: from Instrument groups</li>\n",
    "    <li>On Call Duty: Night time sessions</li>\n",
    "    <li>Control Software still not <em>mature</em></li>\n",
    "    <li>Agile Software Engineering Paradigms</li>\n",
    "    <li>Lots of Unit Testing and Documentation</li>\n",
    "</ul>\n",
    "</div>"
   ]
  },
  {
   "cell_type": "markdown",
   "metadata": {
    "slideshow": {
     "slide_type": "subslide"
    }
   },
   "source": [
    "<figure>\n",
    "<center><img src='HowDidIGetHere.jpg' style='width:750px;'></center>\n",
    "    <figcaption style=\"text-align: center\">HOW DID I GET HERE?</figcaption></figure>"
   ]
  },
  {
   "cell_type": "code",
   "execution_count": null,
   "metadata": {},
   "outputs": [],
   "source": []
  }
 ],
 "metadata": {
  "celltoolbar": "Slideshow",
  "kernelspec": {
   "display_name": "Python 3",
   "language": "python",
   "name": "python3"
  },
  "language_info": {
   "codemirror_mode": {
    "name": "ipython",
    "version": 3
   },
   "file_extension": ".py",
   "mimetype": "text/x-python",
   "name": "python",
   "nbconvert_exporter": "python",
   "pygments_lexer": "ipython3",
   "version": "3.8.3"
  }
 },
 "nbformat": 4,
 "nbformat_minor": 4
}
